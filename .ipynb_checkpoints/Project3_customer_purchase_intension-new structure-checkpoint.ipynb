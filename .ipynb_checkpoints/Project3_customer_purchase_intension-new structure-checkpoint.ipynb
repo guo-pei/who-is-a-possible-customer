{
 "cells": [
  {
   "cell_type": "code",
   "execution_count": 2,
   "metadata": {},
   "outputs": [],
   "source": [
    "import pandas as pd\n",
    "import numpy as np\n",
    "import matplotlib.pyplot as plt\n",
    "import seaborn as sns\n",
    "import pickle\n",
    "%matplotlib inline\n",
    "pd.set_option('display.max_rows', 500)\n",
    "pd.set_option('display.max_columns', 500)\n",
    "pd.set_option('display.width', 1000)"
   ]
  },
  {
   "cell_type": "code",
   "execution_count": 3,
   "metadata": {},
   "outputs": [],
   "source": [
    "#!pip install imblearn"
   ]
  },
  {
   "cell_type": "code",
   "execution_count": 4,
   "metadata": {},
   "outputs": [
    {
     "name": "stderr",
     "output_type": "stream",
     "text": [
      "Using TensorFlow backend.\n"
     ]
    }
   ],
   "source": [
    "from sklearn.linear_model import LogisticRegression\n",
    "from sklearn.linear_model import LogisticRegressionCV\n",
    "from sklearn.model_selection import train_test_split\n",
    "from sklearn.metrics import precision_score, recall_score, accuracy_score, roc_auc_score, f1_score, confusion_matrix, log_loss \n",
    "from sklearn.preprocessing import StandardScaler\n",
    "from imblearn.over_sampling import SMOTE\n",
    "from imblearn.over_sampling import ADASYN\n",
    "from collections import Counter\n",
    "from sklearn.ensemble import RandomForestClassifier\n",
    "from sklearn.feature_selection import SelectFromModel\n",
    "from sklearn.model_selection import RandomizedSearchCV"
   ]
  },
  {
   "cell_type": "markdown",
   "metadata": {},
   "source": [
    "# DATA CLEANING"
   ]
  },
  {
   "cell_type": "markdown",
   "metadata": {},
   "source": [
    "Each row in the data set is a record of one customer visit session on the website.<br>\n",
    "The features are shown below:\n",
    "\n",
    "|Numeric Feature Name|Description|Min|Max|S.D.|\n",
    "|:--|:--|--|--|--|\n",
    "|Administrative|Number of pages visited by the visitor about account management|0|27|3.32|\n",
    "|Administrative_Duration|Total time (in seconds) spent by the visitor on Administrative pages|0|3398|176.70|\n",
    "|Informational|Number of pages visited by the visitor about webite info|0|24|1.26|\n",
    "|Informational duration|Total time (in seconds) spent by the visitor on Informational pages|0|2549|140.64|\n",
    "|Product related|Number of pages visited by the visitor about product related pages|0|705|44,45|\n",
    "|Product related duration|Total time (in seconds) spent by the visitor on Product related pages|0|63973|1912.25|\n",
    "|Bounce rate|Average bounce rate value of the pages visited by the visitor|0|0.2|0.04\n",
    "|Exit rate|Average exit rate value of the pages visited by the visitor|0|0.2|0.05|\n",
    "|Page value|Average page value of the pages visited by the visitor|0|361|18.55|\n",
    "|Special day|Closeness of the site visiting time to a special day|0|1|0.19|\n",
    "\n",
    "\n",
    "|Categorical Feature Name|Description|Number of Categories|\n",
    "|:--|:--|:--:|\n",
    "|OperatingSystems|Operating system of the visitor|8|\n",
    "|Browser|Browser of the visitor|13|\n",
    "|Region|Geographic region from which the session has been started by the visitor|9|\n",
    "|TrafficType|Traffic source by which the visitor has arrived at the web site|20| \n",
    "|VisitorType|New Visitor, Returning Visitor, Other|3| \n",
    "|Weekend|Boolean value indicating whether the date of the visit is weekend|2|\n",
    "|Month|Month value of the visit date|12| \n",
    "|Revenue|Class label indicating whether the visit has been finalized with a transaction|2|"
   ]
  },
  {
   "cell_type": "code",
   "execution_count": 19,
   "metadata": {},
   "outputs": [
    {
     "data": {
      "text/html": [
       "<div>\n",
       "<style scoped>\n",
       "    .dataframe tbody tr th:only-of-type {\n",
       "        vertical-align: middle;\n",
       "    }\n",
       "\n",
       "    .dataframe tbody tr th {\n",
       "        vertical-align: top;\n",
       "    }\n",
       "\n",
       "    .dataframe thead th {\n",
       "        text-align: right;\n",
       "    }\n",
       "</style>\n",
       "<table border=\"1\" class=\"dataframe\">\n",
       "  <thead>\n",
       "    <tr style=\"text-align: right;\">\n",
       "      <th></th>\n",
       "      <th>Administrative</th>\n",
       "      <th>Administrative_Duration</th>\n",
       "      <th>Informational</th>\n",
       "      <th>Informational_Duration</th>\n",
       "      <th>ProductRelated</th>\n",
       "      <th>ProductRelated_Duration</th>\n",
       "      <th>BounceRates</th>\n",
       "      <th>ExitRates</th>\n",
       "      <th>PageValues</th>\n",
       "      <th>SpecialDay</th>\n",
       "      <th>Month</th>\n",
       "      <th>OperatingSystems</th>\n",
       "      <th>Browser</th>\n",
       "      <th>Region</th>\n",
       "      <th>TrafficType</th>\n",
       "      <th>VisitorType</th>\n",
       "      <th>Weekend</th>\n",
       "      <th>Revenue</th>\n",
       "    </tr>\n",
       "  </thead>\n",
       "  <tbody>\n",
       "    <tr>\n",
       "      <th>0</th>\n",
       "      <td>0</td>\n",
       "      <td>0.0</td>\n",
       "      <td>0</td>\n",
       "      <td>0.0</td>\n",
       "      <td>1</td>\n",
       "      <td>0.000000</td>\n",
       "      <td>0.20</td>\n",
       "      <td>0.20</td>\n",
       "      <td>0.0</td>\n",
       "      <td>0.0</td>\n",
       "      <td>Feb</td>\n",
       "      <td>1</td>\n",
       "      <td>1</td>\n",
       "      <td>1</td>\n",
       "      <td>1</td>\n",
       "      <td>Returning_Visitor</td>\n",
       "      <td>False</td>\n",
       "      <td>False</td>\n",
       "    </tr>\n",
       "    <tr>\n",
       "      <th>1</th>\n",
       "      <td>0</td>\n",
       "      <td>0.0</td>\n",
       "      <td>0</td>\n",
       "      <td>0.0</td>\n",
       "      <td>2</td>\n",
       "      <td>64.000000</td>\n",
       "      <td>0.00</td>\n",
       "      <td>0.10</td>\n",
       "      <td>0.0</td>\n",
       "      <td>0.0</td>\n",
       "      <td>Feb</td>\n",
       "      <td>2</td>\n",
       "      <td>2</td>\n",
       "      <td>1</td>\n",
       "      <td>2</td>\n",
       "      <td>Returning_Visitor</td>\n",
       "      <td>False</td>\n",
       "      <td>False</td>\n",
       "    </tr>\n",
       "    <tr>\n",
       "      <th>2</th>\n",
       "      <td>0</td>\n",
       "      <td>0.0</td>\n",
       "      <td>0</td>\n",
       "      <td>0.0</td>\n",
       "      <td>1</td>\n",
       "      <td>0.000000</td>\n",
       "      <td>0.20</td>\n",
       "      <td>0.20</td>\n",
       "      <td>0.0</td>\n",
       "      <td>0.0</td>\n",
       "      <td>Feb</td>\n",
       "      <td>4</td>\n",
       "      <td>1</td>\n",
       "      <td>9</td>\n",
       "      <td>3</td>\n",
       "      <td>Returning_Visitor</td>\n",
       "      <td>False</td>\n",
       "      <td>False</td>\n",
       "    </tr>\n",
       "    <tr>\n",
       "      <th>3</th>\n",
       "      <td>0</td>\n",
       "      <td>0.0</td>\n",
       "      <td>0</td>\n",
       "      <td>0.0</td>\n",
       "      <td>2</td>\n",
       "      <td>2.666667</td>\n",
       "      <td>0.05</td>\n",
       "      <td>0.14</td>\n",
       "      <td>0.0</td>\n",
       "      <td>0.0</td>\n",
       "      <td>Feb</td>\n",
       "      <td>3</td>\n",
       "      <td>2</td>\n",
       "      <td>2</td>\n",
       "      <td>4</td>\n",
       "      <td>Returning_Visitor</td>\n",
       "      <td>False</td>\n",
       "      <td>False</td>\n",
       "    </tr>\n",
       "    <tr>\n",
       "      <th>4</th>\n",
       "      <td>0</td>\n",
       "      <td>0.0</td>\n",
       "      <td>0</td>\n",
       "      <td>0.0</td>\n",
       "      <td>10</td>\n",
       "      <td>627.500000</td>\n",
       "      <td>0.02</td>\n",
       "      <td>0.05</td>\n",
       "      <td>0.0</td>\n",
       "      <td>0.0</td>\n",
       "      <td>Feb</td>\n",
       "      <td>3</td>\n",
       "      <td>3</td>\n",
       "      <td>1</td>\n",
       "      <td>4</td>\n",
       "      <td>Returning_Visitor</td>\n",
       "      <td>True</td>\n",
       "      <td>False</td>\n",
       "    </tr>\n",
       "  </tbody>\n",
       "</table>\n",
       "</div>"
      ],
      "text/plain": [
       "   Administrative  Administrative_Duration  Informational  Informational_Duration  ProductRelated  ProductRelated_Duration  BounceRates  ExitRates  PageValues  SpecialDay Month  OperatingSystems  Browser  Region  TrafficType        VisitorType  Weekend  Revenue\n",
       "0               0                      0.0              0                     0.0               1                 0.000000         0.20       0.20         0.0         0.0   Feb                 1        1       1            1  Returning_Visitor    False    False\n",
       "1               0                      0.0              0                     0.0               2                64.000000         0.00       0.10         0.0         0.0   Feb                 2        2       1            2  Returning_Visitor    False    False\n",
       "2               0                      0.0              0                     0.0               1                 0.000000         0.20       0.20         0.0         0.0   Feb                 4        1       9            3  Returning_Visitor    False    False\n",
       "3               0                      0.0              0                     0.0               2                 2.666667         0.05       0.14         0.0         0.0   Feb                 3        2       2            4  Returning_Visitor    False    False\n",
       "4               0                      0.0              0                     0.0              10               627.500000         0.02       0.05         0.0         0.0   Feb                 3        3       1            4  Returning_Visitor     True    False"
      ]
     },
     "execution_count": 19,
     "metadata": {},
     "output_type": "execute_result"
    }
   ],
   "source": [
    "df = pd.read_csv('online_shoppers_intention.csv')\n",
    "\n",
    "df.head()"
   ]
  },
  {
   "cell_type": "code",
   "execution_count": 8,
   "metadata": {},
   "outputs": [
    {
     "name": "stdout",
     "output_type": "stream",
     "text": [
      "<class 'pandas.core.frame.DataFrame'>\n",
      "RangeIndex: 12330 entries, 0 to 12329\n",
      "Data columns (total 18 columns):\n",
      "Administrative             12330 non-null int64\n",
      "Administrative_Duration    12330 non-null float64\n",
      "Informational              12330 non-null int64\n",
      "Informational_Duration     12330 non-null float64\n",
      "ProductRelated             12330 non-null int64\n",
      "ProductRelated_Duration    12330 non-null float64\n",
      "BounceRates                12330 non-null float64\n",
      "ExitRates                  12330 non-null float64\n",
      "PageValues                 12330 non-null float64\n",
      "SpecialDay                 12330 non-null float64\n",
      "Month                      12330 non-null object\n",
      "OperatingSystems           12330 non-null int64\n",
      "Browser                    12330 non-null int64\n",
      "Region                     12330 non-null int64\n",
      "TrafficType                12330 non-null int64\n",
      "VisitorType                12330 non-null object\n",
      "Weekend                    12330 non-null bool\n",
      "Revenue                    12330 non-null bool\n",
      "dtypes: bool(2), float64(7), int64(7), object(2)\n",
      "memory usage: 1.5+ MB\n"
     ]
    }
   ],
   "source": [
    "df.info()"
   ]
  },
  {
   "cell_type": "code",
   "execution_count": 9,
   "metadata": {},
   "outputs": [
    {
     "data": {
      "text/html": [
       "<div>\n",
       "<style scoped>\n",
       "    .dataframe tbody tr th:only-of-type {\n",
       "        vertical-align: middle;\n",
       "    }\n",
       "\n",
       "    .dataframe tbody tr th {\n",
       "        vertical-align: top;\n",
       "    }\n",
       "\n",
       "    .dataframe thead th {\n",
       "        text-align: right;\n",
       "    }\n",
       "</style>\n",
       "<table border=\"1\" class=\"dataframe\">\n",
       "  <thead>\n",
       "    <tr style=\"text-align: right;\">\n",
       "      <th></th>\n",
       "      <th>Administrative</th>\n",
       "      <th>Administrative_Duration</th>\n",
       "      <th>Informational</th>\n",
       "      <th>Informational_Duration</th>\n",
       "      <th>ProductRelated</th>\n",
       "      <th>ProductRelated_Duration</th>\n",
       "      <th>BounceRates</th>\n",
       "      <th>ExitRates</th>\n",
       "      <th>PageValues</th>\n",
       "      <th>SpecialDay</th>\n",
       "      <th>OperatingSystems</th>\n",
       "      <th>Browser</th>\n",
       "      <th>Region</th>\n",
       "      <th>TrafficType</th>\n",
       "    </tr>\n",
       "  </thead>\n",
       "  <tbody>\n",
       "    <tr>\n",
       "      <th>count</th>\n",
       "      <td>12330.000000</td>\n",
       "      <td>12330.000000</td>\n",
       "      <td>12330.000000</td>\n",
       "      <td>12330.000000</td>\n",
       "      <td>12330.000000</td>\n",
       "      <td>12330.000000</td>\n",
       "      <td>12330.000000</td>\n",
       "      <td>12330.000000</td>\n",
       "      <td>12330.000000</td>\n",
       "      <td>12330.000000</td>\n",
       "      <td>12330.000000</td>\n",
       "      <td>12330.000000</td>\n",
       "      <td>12330.000000</td>\n",
       "      <td>12330.000000</td>\n",
       "    </tr>\n",
       "    <tr>\n",
       "      <th>mean</th>\n",
       "      <td>2.315166</td>\n",
       "      <td>80.818611</td>\n",
       "      <td>0.503569</td>\n",
       "      <td>34.472398</td>\n",
       "      <td>31.731468</td>\n",
       "      <td>1194.746220</td>\n",
       "      <td>0.022191</td>\n",
       "      <td>0.043073</td>\n",
       "      <td>5.889258</td>\n",
       "      <td>0.061427</td>\n",
       "      <td>2.124006</td>\n",
       "      <td>2.357097</td>\n",
       "      <td>3.147364</td>\n",
       "      <td>4.069586</td>\n",
       "    </tr>\n",
       "    <tr>\n",
       "      <th>std</th>\n",
       "      <td>3.321784</td>\n",
       "      <td>176.779107</td>\n",
       "      <td>1.270156</td>\n",
       "      <td>140.749294</td>\n",
       "      <td>44.475503</td>\n",
       "      <td>1913.669288</td>\n",
       "      <td>0.048488</td>\n",
       "      <td>0.048597</td>\n",
       "      <td>18.568437</td>\n",
       "      <td>0.198917</td>\n",
       "      <td>0.911325</td>\n",
       "      <td>1.717277</td>\n",
       "      <td>2.401591</td>\n",
       "      <td>4.025169</td>\n",
       "    </tr>\n",
       "    <tr>\n",
       "      <th>min</th>\n",
       "      <td>0.000000</td>\n",
       "      <td>0.000000</td>\n",
       "      <td>0.000000</td>\n",
       "      <td>0.000000</td>\n",
       "      <td>0.000000</td>\n",
       "      <td>0.000000</td>\n",
       "      <td>0.000000</td>\n",
       "      <td>0.000000</td>\n",
       "      <td>0.000000</td>\n",
       "      <td>0.000000</td>\n",
       "      <td>1.000000</td>\n",
       "      <td>1.000000</td>\n",
       "      <td>1.000000</td>\n",
       "      <td>1.000000</td>\n",
       "    </tr>\n",
       "    <tr>\n",
       "      <th>25%</th>\n",
       "      <td>0.000000</td>\n",
       "      <td>0.000000</td>\n",
       "      <td>0.000000</td>\n",
       "      <td>0.000000</td>\n",
       "      <td>7.000000</td>\n",
       "      <td>184.137500</td>\n",
       "      <td>0.000000</td>\n",
       "      <td>0.014286</td>\n",
       "      <td>0.000000</td>\n",
       "      <td>0.000000</td>\n",
       "      <td>2.000000</td>\n",
       "      <td>2.000000</td>\n",
       "      <td>1.000000</td>\n",
       "      <td>2.000000</td>\n",
       "    </tr>\n",
       "    <tr>\n",
       "      <th>50%</th>\n",
       "      <td>1.000000</td>\n",
       "      <td>7.500000</td>\n",
       "      <td>0.000000</td>\n",
       "      <td>0.000000</td>\n",
       "      <td>18.000000</td>\n",
       "      <td>598.936905</td>\n",
       "      <td>0.003112</td>\n",
       "      <td>0.025156</td>\n",
       "      <td>0.000000</td>\n",
       "      <td>0.000000</td>\n",
       "      <td>2.000000</td>\n",
       "      <td>2.000000</td>\n",
       "      <td>3.000000</td>\n",
       "      <td>2.000000</td>\n",
       "    </tr>\n",
       "    <tr>\n",
       "      <th>75%</th>\n",
       "      <td>4.000000</td>\n",
       "      <td>93.256250</td>\n",
       "      <td>0.000000</td>\n",
       "      <td>0.000000</td>\n",
       "      <td>38.000000</td>\n",
       "      <td>1464.157213</td>\n",
       "      <td>0.016813</td>\n",
       "      <td>0.050000</td>\n",
       "      <td>0.000000</td>\n",
       "      <td>0.000000</td>\n",
       "      <td>3.000000</td>\n",
       "      <td>2.000000</td>\n",
       "      <td>4.000000</td>\n",
       "      <td>4.000000</td>\n",
       "    </tr>\n",
       "    <tr>\n",
       "      <th>max</th>\n",
       "      <td>27.000000</td>\n",
       "      <td>3398.750000</td>\n",
       "      <td>24.000000</td>\n",
       "      <td>2549.375000</td>\n",
       "      <td>705.000000</td>\n",
       "      <td>63973.522230</td>\n",
       "      <td>0.200000</td>\n",
       "      <td>0.200000</td>\n",
       "      <td>361.763742</td>\n",
       "      <td>1.000000</td>\n",
       "      <td>8.000000</td>\n",
       "      <td>13.000000</td>\n",
       "      <td>9.000000</td>\n",
       "      <td>20.000000</td>\n",
       "    </tr>\n",
       "  </tbody>\n",
       "</table>\n",
       "</div>"
      ],
      "text/plain": [
       "       Administrative  Administrative_Duration  Informational  Informational_Duration  ProductRelated  ProductRelated_Duration   BounceRates     ExitRates    PageValues    SpecialDay  OperatingSystems       Browser        Region   TrafficType\n",
       "count    12330.000000             12330.000000   12330.000000            12330.000000    12330.000000             12330.000000  12330.000000  12330.000000  12330.000000  12330.000000      12330.000000  12330.000000  12330.000000  12330.000000\n",
       "mean         2.315166                80.818611       0.503569               34.472398       31.731468              1194.746220      0.022191      0.043073      5.889258      0.061427          2.124006      2.357097      3.147364      4.069586\n",
       "std          3.321784               176.779107       1.270156              140.749294       44.475503              1913.669288      0.048488      0.048597     18.568437      0.198917          0.911325      1.717277      2.401591      4.025169\n",
       "min          0.000000                 0.000000       0.000000                0.000000        0.000000                 0.000000      0.000000      0.000000      0.000000      0.000000          1.000000      1.000000      1.000000      1.000000\n",
       "25%          0.000000                 0.000000       0.000000                0.000000        7.000000               184.137500      0.000000      0.014286      0.000000      0.000000          2.000000      2.000000      1.000000      2.000000\n",
       "50%          1.000000                 7.500000       0.000000                0.000000       18.000000               598.936905      0.003112      0.025156      0.000000      0.000000          2.000000      2.000000      3.000000      2.000000\n",
       "75%          4.000000                93.256250       0.000000                0.000000       38.000000              1464.157213      0.016813      0.050000      0.000000      0.000000          3.000000      2.000000      4.000000      4.000000\n",
       "max         27.000000              3398.750000      24.000000             2549.375000      705.000000             63973.522230      0.200000      0.200000    361.763742      1.000000          8.000000     13.000000      9.000000     20.000000"
      ]
     },
     "execution_count": 9,
     "metadata": {},
     "output_type": "execute_result"
    }
   ],
   "source": [
    "df.describe()"
   ]
  },
  {
   "cell_type": "code",
   "execution_count": 10,
   "metadata": {},
   "outputs": [
    {
     "data": {
      "text/plain": [
       "False    10422\n",
       "True      1908\n",
       "Name: Revenue, dtype: int64"
      ]
     },
     "execution_count": 10,
     "metadata": {},
     "output_type": "execute_result"
    }
   ],
   "source": [
    "df['Revenue'].value_counts()"
   ]
  },
  {
   "cell_type": "code",
   "execution_count": 23,
   "metadata": {
    "scrolled": true
   },
   "outputs": [
    {
     "name": "stdout",
     "output_type": "stream",
     "text": [
      "Administrative [ 0  1  2  4 12  3 10  6  5  9  8 16 13 11  7 18 14 17 19 15 24 22 21 20\n",
      " 23 27 26]\n",
      "Administrative_Duration [  0.         53.         64.6       ... 167.9107143 305.125\n",
      " 150.3571429]\n",
      "Informational [ 0  1  2  4 16  5  3 14  6 12  7  9 10  8 11 24 13]\n",
      "Informational_Duration [  0.   120.    16.   ... 547.75 368.25 211.25]\n",
      "ProductRelated [  1   2  10  19   0   3  16   7   6  23  13  20   8   5  32   4  45  14\n",
      "  52   9  46  15  22  11  12  36  42  27  90  18  38  17 128  25  30  21\n",
      "  51  26  28  31  24  50  96  49  68  98  67  55  35  37  29  34  71  63\n",
      "  87  40  33  54  64  75  39 111  81  61  47  44  88 149  41  79  66  43\n",
      " 258  80  62  83 173  48  58  57  56  69  82  59 109 287  53  84  78 137\n",
      " 113  89  65  60 104 129  77  74  93  76  72 194 140 110 132 115  73 328\n",
      " 160  86 150  95 130 151 117 124 127 125 116 105  92 157 154 220 187 112\n",
      " 131 159  94 204 142 206 102 313 145  85  97 198 181 126 106 101 108 119\n",
      "  70 122  91 276 100 291 114 172 217 141 133 156 136 180 135 195  99 362\n",
      " 179 118 175 148 440 103 178 184 705 134 176 146 189 120 193 222 121 107\n",
      " 305 199 439 223 230 280 377 310 158 486 153 139 182 221 229 216 170 202\n",
      " 346 274 240 162 123 211 227 168 161 429 686 167 518 256 255 358 213 191\n",
      " 282 155 138 246 237 271 171 414 219 262 409 243 241 197 449 143 188 391\n",
      " 238 152 165 293 174 584 164 311 340 250 200 385 292 232 251 517 225 169\n",
      " 309 235 501 224 275 318 144 397 343 245 186 337 351 166 349 423 359 163\n",
      " 147 264 312 226 324 266 260 338 272 534 470 207 218 326 190 304 205 233\n",
      " 401 177 330 286 247 357 315 231 339 283 374 248 279 281 234 261 290 336\n",
      " 378 254 183 210 192]\n",
      "ProductRelated_Duration [  0.          64.           2.66666667 ... 465.75       184.25\n",
      " 346.        ]\n",
      "BounceRates [0.2        0.         0.05       ... 0.00382775 0.00086956 0.01114899]\n",
      "ExitRates [0.2        0.1        0.14       ... 0.01276133 0.01395349 0.02903061]\n",
      "PageValues [ 0.         54.17976426 19.44707913 ... 78.81172527  3.68540082\n",
      " 12.24171745]\n",
      "SpecialDay [0.  0.4 0.8 1.  0.2 0.6]\n",
      "Month ['Feb' 'Mar' 'May' 'Oct' 'June' 'Jul' 'Aug' 'Nov' 'Sep' 'Dec']\n",
      "OperatingSystems [1 2 4 3 7 6 8 5]\n",
      "Browser [ 1  2  3  4  5  6  7 10  8  9 12 13 11]\n",
      "Region [1 9 2 3 4 5 6 7 8]\n",
      "TrafficType [ 1  2  3  4  5  6  7  8  9 10 11 12 13 14 15 18 19 16 17 20]\n",
      "VisitorType ['Returning_Visitor' 'New_Visitor' 'Other']\n",
      "Weekend [False  True]\n",
      "Revenue [False  True]\n"
     ]
    }
   ],
   "source": [
    "def showunique(data):\n",
    "    for i in range(data.shape[1]):\n",
    "        print(data.columns[i], data.iloc[:,i].unique())\n",
    "        \n",
    "showunique(df)"
   ]
  },
  {
   "cell_type": "code",
   "execution_count": 24,
   "metadata": {},
   "outputs": [],
   "source": [
    "# LABEL INDEXING, all columns are numeric now.\n",
    "\n",
    "d_month = {'Feb':2, 'Mar':3, 'May':5, 'Oct':10, 'June':6, 'Jul':7, 'Aug':8, 'Nov':11, 'Sep':9, 'Dec':12}\n",
    "d_visitor = {'Returning_Visitor': 1,'New_Visitor':2, 'Other':3}\n",
    "df.Month = df.Month.map(d_month)\n",
    "df.VisitorType = df.VisitorType.map(d_visitor)\n",
    "df.Weekend = df.Weekend.astype(int)\n",
    "df.Revenue = df.Revenue.astype(int)"
   ]
  },
  {
   "cell_type": "markdown",
   "metadata": {},
   "source": [
    "# Data preparation for modeling"
   ]
  },
  {
   "cell_type": "code",
   "execution_count": 25,
   "metadata": {},
   "outputs": [],
   "source": [
    "# initial train_test_split\n",
    "X_train, X_test, y_train, y_test = train_test_split(df.drop('Revenue', axis=1), df['Revenue'], test_size = 0.2, random_state=42)"
   ]
  },
  {
   "cell_type": "code",
   "execution_count": 26,
   "metadata": {},
   "outputs": [],
   "source": [
    "# SMOTE AND SCALE\n",
    "X_smoted, y_smoted = SMOTE(random_state=42).fit_sample(X_train,y_train)\n",
    "\n",
    "std_scale = StandardScaler()\n",
    "X_train_scaled = std_scale.fit_transform(X_smoted)\n",
    "X_test_scaled = std_scale.transform(X_test.values)"
   ]
  },
  {
   "cell_type": "code",
   "execution_count": 15,
   "metadata": {},
   "outputs": [],
   "source": [
    "# df_train\n",
    "df_X_train = pd.DataFrame(X_train).reset_index().iloc[:,1:] #reset index and remove index column\n",
    "df_y_train = pd.DataFrame(y_train).reset_index().iloc[:,1]\n",
    "df_train = pd.concat([df_X_train, df_y_train], axis = 1, ignore_index = True)\n",
    "df_train.columns = df.columns\n",
    "\n",
    "# df_test\n",
    "df_X_test = pd.DataFrame(X_test).reset_index().iloc[:,1:]\n",
    "df_y_test = pd.DataFrame(y_test).reset_index().iloc[:,1]\n",
    "df_test = pd.concat([df_X_test, df_y_test], axis = 1, ignore_index = True)\n",
    "df_test.columns = df.columns"
   ]
  },
  {
   "cell_type": "markdown",
   "metadata": {},
   "source": [
    "# INITIAL MODEL SELECTION\n",
    "\n",
    "The data set is highly imbalanced. All the models tend to fit towards the majority class, so in order to improve the model profermance, we need to balance the data first. I used SMOTE oversizing techique, the result is that both classes have the same number of samples. <br>\n",
    "\n",
    "Now we can use Accurary as a metric for balanced dataset. I chose 7 classifiers as model candicates. I split the dataset into 80% train and 20% test. Then the train set is fitted into each model without tuning. Here we get a baseline accuracy ranking. I will choose the top 4 models for this project. I will try to tune this model to pick the best performance models for my business goals.\n",
    "\n",
    "|Rank|Model Candidates|Accuracy Scores|Recall|\n",
    "|---|---|---|---|\n",
    "|1|Random Forest|0.8901|0.723|\n",
    "|2|Extra Trees|0.8893|0.667|\n",
    "|3|ADAboost|0.8848|0.686|\n",
    "|4|logistic regression|0.8727|0.624|\n",
    "|5|SVC|0.8715|0.657|\n",
    "|6|KNN|0.7903|0.577|\n",
    "|7|Naive Bayes|0.5738|0.796|\n",
    "\n",
    "\n"
   ]
  },
  {
   "cell_type": "code",
   "execution_count": 11,
   "metadata": {},
   "outputs": [],
   "source": [
    "from sklearn import linear_model, svm, naive_bayes, neighbors, ensemble\n",
    "\n",
    "lr_model = LogisticRegressionCV(cv=5, random_state=0)\n",
    "nb_model = naive_bayes.GaussianNB()\n",
    "knn_model = neighbors.KNeighborsClassifier()\n",
    "svc_model = svm.SVC(probability=True, gamma=\"scale\")\n",
    "rf_model = ensemble.RandomForestClassifier(n_estimators=100)\n",
    "et_model = ensemble.ExtraTreesClassifier(n_estimators=100)\n",
    "ada_model = ensemble.AdaBoostClassifier()\n",
    "\n",
    "models = [\"lr_model\", \"nb_model\", \"knn_model\", \"svc_model\", \"rf_model\", \"et_model\", \"ada_model\"]"
   ]
  },
  {
   "cell_type": "code",
   "execution_count": 23,
   "metadata": {},
   "outputs": [],
   "source": [
    "models = [\"lr_model\", \"nb_model\", \"knn_model\", \"svc_model\", \"rf_model\", \"et_model\", \"ada_model\"]\n",
    "for model_name in models:\n",
    "    curr_model = eval(model_name)\n",
    "    curr_model.fit(X_train_scaled, y_smoted) # fit the scaled smote data without removing any columns\n",
    "    \n",
    "    with open(f\"{model_name}.pickle\", \"wb\") as pfile:\n",
    "        pickle.dump(curr_model, pfile)"
   ]
  },
  {
   "cell_type": "code",
   "execution_count": 24,
   "metadata": {},
   "outputs": [],
   "source": [
    "for model_name in models:\n",
    "    with open(f\"{model_name}.pickle\", \"rb\") as pfile:\n",
    "        exec(f\"{model_name} = pickle.load(pfile)\")\n",
    "\n",
    "model_vars = [eval(n) for n in models]\n",
    "model_list = list(zip(models, model_vars))"
   ]
  },
  {
   "cell_type": "code",
   "execution_count": 25,
   "metadata": {},
   "outputs": [
    {
     "name": "stdout",
     "output_type": "stream",
     "text": [
      "lr_model score: 0.8633414436334145\n",
      "nb_model score: 0.5993511759935117\n",
      "knn_model score: 0.7883211678832117\n",
      "svc_model score: 0.8694241686942417\n",
      "rf_model score: 0.8844282238442822\n",
      "et_model score: 0.8824006488240065\n",
      "ada_model score: 0.8730738037307381\n"
     ]
    }
   ],
   "source": [
    "for model_name in models:\n",
    "    curr_model = eval(model_name)\n",
    "    print(f'{model_name} score: {curr_model.score(X_test_scaled, y_test)}')"
   ]
  },
  {
   "cell_type": "markdown",
   "metadata": {},
   "source": [
    "# BASE MODEL PERFORMANCE\n",
    "\n",
    "model performance before feature selections."
   ]
  },
  {
   "cell_type": "code",
   "execution_count": 30,
   "metadata": {},
   "outputs": [],
   "source": [
    "def model_metrics(model, X_test, y_test):\n",
    "    y_predict = model.predict(X_test)  \n",
    "    cm = confusion_matrix(y_test, y_predict)\n",
    "    specificity = cm[0,0]/(cm[0,0]+cm[0,1])\n",
    "    \n",
    "    print('Accuracy: ', model.score(X_test, y_test))\n",
    "    print('Precision : ', precision_score(y_test, y_predict))\n",
    "    print('Recall : ', recall_score(y_test, y_predict))\n",
    "    print('Specificity : ', specificity)\n",
    "    print('F1 score: ', f1_score(y_test, y_predict))\n",
    "    print('Logistic loss: ', log_loss(y_test, y_predict))\n",
    "    print('Confusion Matrix: ','\\n', cm)"
   ]
  },
  {
   "cell_type": "code",
   "execution_count": 27,
   "metadata": {},
   "outputs": [
    {
     "name": "stdout",
     "output_type": "stream",
     "text": [
      "Accuracy:  0.8844282238442822\n",
      "Precision :  0.6346153846153846\n",
      "Recall :  0.7226277372262774\n",
      "Specificity :  0.9167883211678832\n",
      "F1 score:  0.6757679180887372\n",
      "Logistic loss:  3.9917631807421374\n",
      "Confusion Matrix:  \n",
      " [[1884  171]\n",
      " [ 114  297]]\n"
     ]
    }
   ],
   "source": [
    "model_metrics(rf_model, X_test_scaled, y_test)"
   ]
  },
  {
   "cell_type": "code",
   "execution_count": 28,
   "metadata": {},
   "outputs": [
    {
     "name": "stdout",
     "output_type": "stream",
     "text": [
      "Accuracy:  0.8824006488240065\n",
      "Precision :  0.6416861826697893\n",
      "Recall :  0.6666666666666666\n",
      "Specificity :  0.9255474452554745\n",
      "F1 score:  0.6539379474940334\n",
      "Logistic loss:  4.0617873045137545\n",
      "Confusion Matrix:  \n",
      " [[1902  153]\n",
      " [ 137  274]]\n"
     ]
    }
   ],
   "source": [
    "model_metrics(et_model, X_test_scaled, y_test)"
   ]
  },
  {
   "cell_type": "code",
   "execution_count": 29,
   "metadata": {},
   "outputs": [
    {
     "name": "stdout",
     "output_type": "stream",
     "text": [
      "Accuracy:  0.8730738037307381\n",
      "Precision :  0.6051502145922747\n",
      "Recall :  0.6861313868613139\n",
      "Specificity :  0.9104622871046228\n",
      "F1 score:  0.6431014823261118\n",
      "Logistic loss:  4.383935173371532\n",
      "Confusion Matrix:  \n",
      " [[1871  184]\n",
      " [ 129  282]]\n"
     ]
    }
   ],
   "source": [
    "model_metrics(ada_model, X_test_scaled, y_test)"
   ]
  },
  {
   "cell_type": "code",
   "execution_count": 30,
   "metadata": {},
   "outputs": [
    {
     "name": "stdout",
     "output_type": "stream",
     "text": [
      "Accuracy:  0.8633414436334145\n",
      "Precision :  0.5761316872427984\n",
      "Recall :  0.681265206812652\n",
      "Specificity :  0.8997566909975669\n",
      "F1 score:  0.6243032329988851\n",
      "Logistic loss:  4.720086116040358\n",
      "Confusion Matrix:  \n",
      " [[1849  206]\n",
      " [ 131  280]]\n"
     ]
    }
   ],
   "source": [
    "model_metrics(lr_model, X_test_scaled, y_test)"
   ]
  },
  {
   "cell_type": "code",
   "execution_count": 55,
   "metadata": {},
   "outputs": [
    {
     "name": "stdout",
     "output_type": "stream",
     "text": [
      "Accuracy:  0.8694241686942417\n",
      "Precision :  0.5986696230598669\n",
      "Recall :  0.656934306569343\n",
      "Specificity :  0.9119221411192214\n",
      "F1 score:  0.6264501160092808\n",
      "Logistic loss:  4.509988129073847\n",
      "Confusion Matrix:  \n",
      " [[1874  181]\n",
      " [ 141  270]]\n"
     ]
    }
   ],
   "source": [
    "model_metrics(svc_model, X_test_scaled, y_test)"
   ]
  },
  {
   "cell_type": "code",
   "execution_count": 56,
   "metadata": {},
   "outputs": [
    {
     "name": "stdout",
     "output_type": "stream",
     "text": [
      "Accuracy:  0.7883211678832117\n",
      "Precision :  0.40512820512820513\n",
      "Recall :  0.5766423357664233\n",
      "Specificity :  0.8306569343065694\n",
      "F1 score:  0.4759036144578313\n",
      "Logistic loss:  7.311240688584381\n",
      "Confusion Matrix:  \n",
      " [[1707  348]\n",
      " [ 174  237]]\n"
     ]
    }
   ],
   "source": [
    "model_metrics(knn_model, X_test_scaled, y_test)"
   ]
  },
  {
   "cell_type": "code",
   "execution_count": 57,
   "metadata": {},
   "outputs": [
    {
     "name": "stdout",
     "output_type": "stream",
     "text": [
      "Accuracy:  0.5993511759935117\n",
      "Precision :  0.26563769293257516\n",
      "Recall :  0.7956204379562044\n",
      "Specificity :  0.5600973236009732\n",
      "F1 score:  0.3982947624847747\n",
      "Logistic loss:  13.838213266118673\n",
      "Confusion Matrix:  \n",
      " [[1151  904]\n",
      " [  84  327]]\n"
     ]
    }
   ],
   "source": [
    "model_metrics(nb_model, X_test_scaled, y_test)"
   ]
  },
  {
   "cell_type": "markdown",
   "metadata": {},
   "source": [
    "# FEATURE SELECTION\n",
    "\n",
    "Three methods, consider all to have the final candicates.\n",
    "\n",
    "__Summary__\n",
    "The metric values improved after removing low IV and high correlation features. They are even more improved after clipping the continuous data features to upper 5%. \n",
    "1. Based on the tables below, these features are removed:<br>Administrative,InformationalDuration,ProductRelated,ExitRates,Region,Weekend\n",
    "2. The dataset after removing 6 features has slightly lower scores on most of metrics than the one without removing. \n",
    "3. The benefit of having 6 fewer features is worthy of sacrificing a little lower scores. \n",
    "4. The dataset after feature removal has better scores after clipping the top 5%."
   ]
  },
  {
   "cell_type": "markdown",
   "metadata": {},
   "source": [
    "|Information Value|Predictive Power|\n",
    "|---|:---|\n",
    "|< 0.02|Useless for Prediction|\n",
    "|0.02 - 0.1|Weak Predictor|\n",
    "|0.1 - 0.3|Medium Predictor|\n",
    "|0.3 - 0.5|Strong Predictor|\n",
    "|> 0.5|Suspicious or too good to be true|\n",
    "\n",
    "##### High correlation pairs and their IV\n",
    "    \n",
    "|Feature A|IV_A|Power_A|Corr_A_Revenue|Feature B|IV_B|Power_B|Corr_B_Revenue|Corr_value_AB|Decision|Reason|\n",
    "|:---|:---|:---|:---|:---|:---|:---|:---|:---|:---|:---|\n",
    "|Administrative|0.11|Medium|0.13|Administrative_Duration|0.15|Medium|0.089|0.59|Drop Administrative|lowerIV & need to drop one|\n",
    "|Informational|0.05|Weak|0.096|Informational_Duration|0|Useless|0.065|0.62|Drop Duration|low IV & Corr|\n",
    "|ProductRelated|0.36|Strong|0.15|ProductRelated_Duration|0.43|Strong|0.14|0.86|Drop ProductRelated|lower IV|\n",
    "|BounceRates|0.36|Strong|-0.15|ExitRates|0.69|Suspicious|-0.21|0.91|Drop BounceRates|low IV & Corr|\n",
    "\n",
    "##### Other features:\n",
    "\n",
    "|Feature|IV|Predict_P|Corr_Revenue|Decision|Reason|\n",
    "|---|---|---|---|---|---|\n",
    "|Special day|0.11|Medium|-0.082|Keep|-|\n",
    "|Month|0.25|Medium|0.13|Keep|-|\n",
    "|OperatingSystems|0.05|Weak|-0.022|Drop|low IV & Corr|\n",
    "|Browser|0.01|Useless|0.022|Drop|low IV & Corr|\n",
    "|Region|0.01|Useless|-0.011|Drop|low IV & Corr|\n",
    "|VisitorType|0.08|Weak|0.1|Keep|-|\n",
    "|Weekend|0.01|Useless|0.026|Drop|low IV & Corr|\n",
    "|TrafficType|0.06|Weak|0.0006|Drop|low IV & Corr|\n",
    "|PageValues|2.26|Suspicious|0.5|Keep|-|\n"
   ]
  },
  {
   "cell_type": "markdown",
   "metadata": {},
   "source": [
    "# Correlation Scores"
   ]
  },
  {
   "cell_type": "code",
   "execution_count": 34,
   "metadata": {},
   "outputs": [
    {
     "data": {
      "image/png": "[encoded data removed]",
      "text/plain": [
       "<Figure size 1080x1080 with 2 Axes>"
      ]
     },
     "metadata": {
      "needs_background": "light"
     },
     "output_type": "display_data"
    }
   ],
   "source": [
    "plt.subplots(figsize = (15,15))\n",
    "hm = sns.heatmap(df_train.corr(), cmap=\"BuPu\", annot=True)"
   ]
  },
  {
   "cell_type": "code",
   "execution_count": 47,
   "metadata": {},
   "outputs": [
    {
     "data": {
      "text/plain": [
       "Revenue                    1.000000\n",
       "PageValues                 0.495700\n",
       "ProductRelated             0.145314\n",
       "ProductRelated_Duration    0.139833\n",
       "Month                      0.131098\n",
       "Administrative             0.126812\n",
       "VisitorType                0.102220\n",
       "Informational              0.096208\n",
       "Administrative_Duration    0.088759\n",
       "Informational_Duration     0.065073\n",
       "Weekend                    0.026159\n",
       "Browser                    0.022380\n",
       "TrafficType                0.000605\n",
       "Region                     0.010927\n",
       "OperatingSystems           0.021798\n",
       "SpecialDay                 0.090200\n",
       "BounceRates                0.147753\n",
       "ExitRates                  0.205205\n",
       "Name: Revenue, dtype: float64"
      ]
     },
     "execution_count": 47,
     "metadata": {},
     "output_type": "execute_result"
    }
   ],
   "source": [
    "abs(df_train.corr().loc['Revenue',:].sort_values(ascending = False))"
   ]
  },
  {
   "cell_type": "markdown",
   "metadata": {},
   "source": [
    "# SelectFromModel\n",
    "\n",
    "1. Use SelectFromModel to pick the most important key features. Then look at correlation values, use key features as the decision factor when there is colinearity.\n",
    "2. Pick about 8 features, make a subset data set. Then dummies the categorical features. Redo the selection process on dummied data again, pick the final features.\n",
    "3. Use randomized CV to tune the model"
   ]
  },
  {
   "cell_type": "code",
   "execution_count": 35,
   "metadata": {},
   "outputs": [
    {
     "data": {
      "text/plain": [
       "SelectFromModel(estimator=RandomForestClassifier(bootstrap=True, ccp_alpha=0.0,\n",
       "                                                 class_weight=None,\n",
       "                                                 criterion='gini',\n",
       "                                                 max_depth=None,\n",
       "                                                 max_features='auto',\n",
       "                                                 max_leaf_nodes=None,\n",
       "                                                 max_samples=None,\n",
       "                                                 min_impurity_decrease=0.0,\n",
       "                                                 min_impurity_split=None,\n",
       "                                                 min_samples_leaf=1,\n",
       "                                                 min_samples_split=2,\n",
       "                                                 min_weight_fraction_leaf=0.0,\n",
       "                                                 n_estimators=500, n_jobs=None,\n",
       "                                                 oob_score=False,\n",
       "                                                 random_state=None, verbose=0,\n",
       "                                                 warm_start=False),\n",
       "                max_features=None, norm_order=1, prefit=False, threshold=None)"
      ]
     },
     "execution_count": 35,
     "metadata": {},
     "output_type": "execute_result"
    }
   ],
   "source": [
    "sel = SelectFromModel(RandomForestClassifier(n_estimators = 500))\n",
    "sel.fit(X_train_scaled, y_smoted)    # only use the train set"
   ]
  },
  {
   "cell_type": "code",
   "execution_count": 40,
   "metadata": {},
   "outputs": [
    {
     "data": {
      "text/plain": [
       "Index(['ProductRelated_Duration', 'ExitRates', 'PageValues'], dtype='object')"
      ]
     },
     "execution_count": 40,
     "metadata": {},
     "output_type": "execute_result"
    }
   ],
   "source": [
    "sel.get_support()\n",
    "selected_feat= X_train.columns[(sel.get_support())]\n",
    "selected_feat\n",
    "#pd.Series(sel.estimator_.feature_importances_.ravel()).hist()"
   ]
  },
  {
   "cell_type": "markdown",
   "metadata": {},
   "source": [
    "# Information Value"
   ]
  },
  {
   "cell_type": "code",
   "execution_count": 37,
   "metadata": {},
   "outputs": [],
   "source": [
    "df_iv = df_train.copy()\n",
    "\n",
    "df_iv['Administrative_Bins'] = pd.qcut(df_iv['Administrative'], 5, labels= False, duplicates = 'drop')\n",
    "df_iv['Administrative_Duration_Bins'] = pd.qcut(df_iv['Administrative_Duration'], 5, labels= False, duplicates = 'drop')\n",
    "df_iv['Informational_Bins'] = pd.qcut(df_iv['Informational'], 5, labels= False, duplicates = 'drop')\n",
    "df_iv['Informational_Duration_Bins'] = pd.qcut(df_iv['Informational_Duration'], 5, labels= False, duplicates = 'drop')\n",
    "df_iv['ProductRelated_Bins'] = pd.qcut(df_iv['ProductRelated'], 5, labels= False, duplicates = 'drop')\n",
    "df_iv['ProductRelated_Duration_Bins'] = pd.qcut(df_iv['ProductRelated_Duration'], 5, labels= False, duplicates = 'drop')\n",
    "df_iv['BounceRates_Bins'] = pd.qcut(df_iv['BounceRates'], 5, labels= False, duplicates = 'drop')\n",
    "df_iv['ExitRates_Bins'] = pd.qcut(df_iv['ExitRates'], 5, labels= False, duplicates = 'drop')\n",
    "df_iv['PageValues_Bins'] = pd.qcut(df_iv['PageValues'], 5, labels= False, duplicates = 'drop')\n",
    "df_iv['TrafficType_Bins'] = pd.qcut(df_iv['TrafficType'], 5, labels= False, duplicates = 'drop')\n",
    "\n",
    "df_iv.drop(['Administrative','Administrative_Duration','Informational','Informational_Duration','ProductRelated','ProductRelated_Duration','BounceRates','ExitRates','PageValues','TrafficType'], axis=1, inplace=True)"
   ]
  },
  {
   "cell_type": "code",
   "execution_count": 45,
   "metadata": {},
   "outputs": [],
   "source": [
    "def calculate_woe_iv(dataset, feature, target):\n",
    "    lst = []\n",
    "    for i in range(dataset[feature].nunique()):\n",
    "        val = list(dataset[feature].unique())[i]\n",
    "        lst.append({\n",
    "            'Value': val,\n",
    "            'All': dataset[dataset[feature] == val].count()[feature],\n",
    "            'NO': dataset[(dataset[feature] == val) & (dataset[target] == 0)].count()[feature],\n",
    "            'YES': dataset[(dataset[feature] == val) & (dataset[target] == 1)].count()[feature]\n",
    "        })\n",
    "        \n",
    "    dset = pd.DataFrame(lst)\n",
    "    dset['Distr_NO'] = dset['NO'] / dset['NO'].sum()\n",
    "    dset['Distr_YES'] = dset['YES'] / dset['YES'].sum()\n",
    "    dset['WoE'] = np.log(dset['Distr_NO'] / dset['Distr_YES'])\n",
    "    dset = dset.replace({'WoE': {np.inf: 0, -np.inf: 0}})\n",
    "    dset['IV'] = (dset['Distr_NO'] - dset['Distr_YES']) * dset['WoE']\n",
    "    iv = dset['IV'].sum()\n",
    "    \n",
    "    dset = dset.sort_values(by='WoE')\n",
    "    \n",
    "    return iv #& dset"
   ]
  },
  {
   "cell_type": "code",
   "execution_count": 46,
   "metadata": {},
   "outputs": [
    {
     "name": "stdout",
     "output_type": "stream",
     "text": [
      "column: SpecialDay\n",
      "IV score: 0.11\n",
      "\n",
      "\n",
      "column: Month\n",
      "IV score: 0.25\n",
      "\n",
      "\n",
      "column: OperatingSystems\n",
      "IV score: 0.05\n",
      "\n",
      "\n",
      "column: Browser\n",
      "IV score: 0.01\n",
      "\n",
      "\n",
      "column: Region\n",
      "IV score: 0.01\n",
      "\n",
      "\n",
      "column: VisitorType\n",
      "IV score: 0.08\n",
      "\n",
      "\n",
      "column: Weekend\n",
      "IV score: 0.01\n",
      "\n",
      "\n",
      "column: Administrative_Bins\n",
      "IV score: 0.11\n",
      "\n",
      "\n",
      "column: Administrative_Duration_Bins\n",
      "IV score: 0.15\n",
      "\n",
      "\n",
      "column: Informational_Bins\n",
      "IV score: 0.05\n",
      "\n",
      "\n",
      "column: Informational_Duration_Bins\n",
      "IV score: 0.00\n",
      "\n",
      "\n",
      "column: ProductRelated_Bins\n",
      "IV score: 0.36\n",
      "\n",
      "\n",
      "column: ProductRelated_Duration_Bins\n",
      "IV score: 0.43\n",
      "\n",
      "\n",
      "column: BounceRates_Bins\n",
      "IV score: 0.36\n",
      "\n",
      "\n",
      "column: ExitRates_Bins\n",
      "IV score: 0.69\n",
      "\n",
      "\n",
      "column: PageValues_Bins\n",
      "IV score: 2.26\n",
      "\n",
      "\n",
      "column: TrafficType_Bins\n",
      "IV score: 0.06\n",
      "\n",
      "\n"
     ]
    }
   ],
   "source": [
    "for col in df_iv.columns:\n",
    "    if col == 'Revenue': continue\n",
    "    else:\n",
    "        print('column: {}'.format(col))\n",
    "        iv = calculate_woe_iv(df_iv, col, 'Revenue')\n",
    "        print('IV score: {:.2f}'.format(iv))\n",
    "        print('\\n')"
   ]
  },
  {
   "cell_type": "markdown",
   "metadata": {},
   "source": [
    "__There are the narrowed down features:__\n",
    "PageValues, ExitRates, Month, ProductRelated_Duration, Administrative, SpecialDay, VisitorType, Informational"
   ]
  },
  {
   "cell_type": "code",
   "execution_count": 48,
   "metadata": {},
   "outputs": [],
   "source": [
    "df_narrow = df[['Revenue','PageValues', 'ExitRates', 'ProductRelated_Duration', 'Administrative_Duration', 'Month', 'VisitorType', 'Informational', 'SpecialDay']]"
   ]
  },
  {
   "cell_type": "code",
   "execution_count": 49,
   "metadata": {},
   "outputs": [
    {
     "data": {
      "text/html": [
       "<div>\n",
       "<style scoped>\n",
       "    .dataframe tbody tr th:only-of-type {\n",
       "        vertical-align: middle;\n",
       "    }\n",
       "\n",
       "    .dataframe tbody tr th {\n",
       "        vertical-align: top;\n",
       "    }\n",
       "\n",
       "    .dataframe thead th {\n",
       "        text-align: right;\n",
       "    }\n",
       "</style>\n",
       "<table border=\"1\" class=\"dataframe\">\n",
       "  <thead>\n",
       "    <tr style=\"text-align: right;\">\n",
       "      <th></th>\n",
       "      <th>Revenue</th>\n",
       "      <th>PageValues</th>\n",
       "      <th>ExitRates</th>\n",
       "      <th>ProductRelated_Duration</th>\n",
       "      <th>Administrative_Duration</th>\n",
       "      <th>Month</th>\n",
       "      <th>VisitorType</th>\n",
       "      <th>Informational</th>\n",
       "      <th>SpecialDay</th>\n",
       "    </tr>\n",
       "  </thead>\n",
       "  <tbody>\n",
       "    <tr>\n",
       "      <th>0</th>\n",
       "      <td>0</td>\n",
       "      <td>0.0</td>\n",
       "      <td>0.20</td>\n",
       "      <td>0.000000</td>\n",
       "      <td>0.0</td>\n",
       "      <td>2</td>\n",
       "      <td>1</td>\n",
       "      <td>0</td>\n",
       "      <td>0.0</td>\n",
       "    </tr>\n",
       "    <tr>\n",
       "      <th>1</th>\n",
       "      <td>0</td>\n",
       "      <td>0.0</td>\n",
       "      <td>0.10</td>\n",
       "      <td>64.000000</td>\n",
       "      <td>0.0</td>\n",
       "      <td>2</td>\n",
       "      <td>1</td>\n",
       "      <td>0</td>\n",
       "      <td>0.0</td>\n",
       "    </tr>\n",
       "    <tr>\n",
       "      <th>2</th>\n",
       "      <td>0</td>\n",
       "      <td>0.0</td>\n",
       "      <td>0.20</td>\n",
       "      <td>0.000000</td>\n",
       "      <td>0.0</td>\n",
       "      <td>2</td>\n",
       "      <td>1</td>\n",
       "      <td>0</td>\n",
       "      <td>0.0</td>\n",
       "    </tr>\n",
       "    <tr>\n",
       "      <th>3</th>\n",
       "      <td>0</td>\n",
       "      <td>0.0</td>\n",
       "      <td>0.14</td>\n",
       "      <td>2.666667</td>\n",
       "      <td>0.0</td>\n",
       "      <td>2</td>\n",
       "      <td>1</td>\n",
       "      <td>0</td>\n",
       "      <td>0.0</td>\n",
       "    </tr>\n",
       "    <tr>\n",
       "      <th>4</th>\n",
       "      <td>0</td>\n",
       "      <td>0.0</td>\n",
       "      <td>0.05</td>\n",
       "      <td>627.500000</td>\n",
       "      <td>0.0</td>\n",
       "      <td>2</td>\n",
       "      <td>1</td>\n",
       "      <td>0</td>\n",
       "      <td>0.0</td>\n",
       "    </tr>\n",
       "  </tbody>\n",
       "</table>\n",
       "</div>"
      ],
      "text/plain": [
       "   Revenue  PageValues  ExitRates  ProductRelated_Duration  Administrative_Duration  Month  VisitorType  Informational  SpecialDay\n",
       "0        0         0.0       0.20                 0.000000                      0.0      2            1              0         0.0\n",
       "1        0         0.0       0.10                64.000000                      0.0      2            1              0         0.0\n",
       "2        0         0.0       0.20                 0.000000                      0.0      2            1              0         0.0\n",
       "3        0         0.0       0.14                 2.666667                      0.0      2            1              0         0.0\n",
       "4        0         0.0       0.05               627.500000                      0.0      2            1              0         0.0"
      ]
     },
     "execution_count": 49,
     "metadata": {},
     "output_type": "execute_result"
    }
   ],
   "source": [
    "df_narrow.head()"
   ]
  },
  {
   "cell_type": "markdown",
   "metadata": {},
   "source": [
    "# Model Performance after 1st round reduce features"
   ]
  },
  {
   "cell_type": "markdown",
   "metadata": {},
   "source": [
    "|Model|New Recall|Old recall|F1|Accuracy|\n",
    "|--|--|--|--|--|\n",
    "|EXTRA trees|0.754|0.667|0.660|0.871|\n",
    "|Logistic regression|0.749|0.624|0.665|0.874|\n",
    "|Random forest|0.742|0.723|0.654|0.869|\n",
    "|AdaBoost|0.710|0.686|0.654|0.875|"
   ]
  },
  {
   "cell_type": "code",
   "execution_count": 50,
   "metadata": {},
   "outputs": [],
   "source": [
    "X_tra_na, X_tes_na, y_tra_na, y_tes_na = train_test_split(df_narrow.drop('Revenue', axis=1), df_narrow['Revenue'], \n",
    "                                                    test_size = 0.2, random_state=42)\n",
    "X_tra_smote_na, y_tra_smote_na = SMOTE(random_state=42).fit_sample(X_tra_na, y_tra_na)\n",
    "\n",
    "X_tra_smote_scaled_na = std_scale.fit_transform(X_tra_smote_na)\n",
    "X_tes_smote_scaled_na = std_scale.transform(X_tes_na)"
   ]
  },
  {
   "cell_type": "code",
   "execution_count": 51,
   "metadata": {},
   "outputs": [],
   "source": [
    "models_na = [\"rf_model\", \"et_model\", \"ada_model\", \"lr_model\"]\n",
    "for model_name in models_na:\n",
    "    curr_model = eval(model_name)\n",
    "    curr_model.fit(X_tra_smote_scaled_na, y_tra_smote_na) \n",
    "    \n",
    "    with open(f\"na{model_name}.pickle\", \"wb\") as pfile:\n",
    "        pickle.dump(curr_model, pfile)"
   ]
  },
  {
   "cell_type": "code",
   "execution_count": 52,
   "metadata": {},
   "outputs": [],
   "source": [
    "for model_name in models_na:\n",
    "    with open(f\"na{model_name}.pickle\", \"rb\") as pfile:\n",
    "        exec(f\"{model_name} = pickle.load(pfile)\")\n",
    "\n",
    "model_vars_na = [eval(n) for n in models_na]\n",
    "model_list_na = list(zip(models_na, model_vars_na))"
   ]
  },
  {
   "cell_type": "code",
   "execution_count": 54,
   "metadata": {},
   "outputs": [
    {
     "name": "stdout",
     "output_type": "stream",
     "text": [
      "Accuracy:  0.8742903487429035\n",
      "Precision :  0.5980582524271845\n",
      "Recall :  0.7493917274939172\n",
      "Specificity :  0.8992700729927007\n",
      "F1 score:  0.6652267818574513\n",
      "Logistic loss:  4.341924654943376\n",
      "Confusion Matrix:  \n",
      " [[1848  207]\n",
      " [ 103  308]]\n",
      "rf_model scores: None\n",
      "Accuracy:  0.8690186536901865\n",
      "Precision :  0.5842911877394636\n",
      "Recall :  0.7420924574209246\n",
      "Specificity :  0.8944038929440389\n",
      "F1 score:  0.6538049303322616\n",
      "Logistic loss:  4.5240057940788745\n",
      "Confusion Matrix:  \n",
      " [[1838  217]\n",
      " [ 106  305]]\n",
      "et_model scores: None\n",
      "Accuracy:  0.8706407137064072\n",
      "Precision :  0.5871212121212122\n",
      "Recall :  0.754257907542579\n",
      "Specificity :  0.8939172749391727\n",
      "F1 score:  0.6602768903088392\n",
      "Logistic loss:  4.467982150128261\n",
      "Confusion Matrix:  \n",
      " [[1837  218]\n",
      " [ 101  310]]\n",
      "ada_model scores: None\n",
      "Accuracy:  0.8746958637469586\n",
      "Precision :  0.6058091286307054\n",
      "Recall :  0.7104622871046229\n",
      "Specificity :  0.9075425790754258\n",
      "F1 score:  0.6539753639417692\n",
      "Logistic loss:  4.3279131506646955\n",
      "Confusion Matrix:  \n",
      " [[1865  190]\n",
      " [ 119  292]]\n",
      "lr_model scores: None\n"
     ]
    }
   ],
   "source": [
    "for model_name in models_na:\n",
    "    curr_model = eval(model_name)\n",
    "    print(f'{model_name} scores: {model_metrics(curr_model, X_tes_smote_scaled_na, y_tes_na)}')"
   ]
  },
  {
   "cell_type": "markdown",
   "metadata": {},
   "source": [
    "# Feature Engineering: 2nd Round Feature Selection\n",
    "\n",
    "PageValues, ExitRates, Administrative_bins_Admin_0, Month_11, ProductRelated_Duration, Informational_bins_Info_0, VisitorType_bins_return, SpecialDay_0.0"
   ]
  },
  {
   "cell_type": "markdown",
   "metadata": {},
   "source": [
    "## Creating dummy features"
   ]
  },
  {
   "cell_type": "code",
   "execution_count": 58,
   "metadata": {},
   "outputs": [],
   "source": [
    "df_dum = df_narrow.copy()"
   ]
  },
  {
   "cell_type": "code",
   "execution_count": 59,
   "metadata": {},
   "outputs": [],
   "source": [
    "#showunique(df_dum)"
   ]
  },
  {
   "cell_type": "code",
   "execution_count": 60,
   "metadata": {},
   "outputs": [],
   "source": [
    "#df_narrow.Administrative_bins.value_counts()\n",
    "#df_narrow.Informational.value_counts()"
   ]
  },
  {
   "cell_type": "code",
   "execution_count": 61,
   "metadata": {},
   "outputs": [],
   "source": [
    "for index, item in enumerate(df_dum.loc[:,'PageValues']):\n",
    "    if item == 0:\n",
    "        df_dum.loc[index,'PageValues_bins'] ='equal_0'\n",
    "    else:\n",
    "        df_dum.loc[index,'PageValues_bins'] ='above_0'"
   ]
  },
  {
   "cell_type": "code",
   "execution_count": 62,
   "metadata": {},
   "outputs": [],
   "source": [
    "for index, item in enumerate(df_dum.loc[:,'Month']):\n",
    "    if item < 4:\n",
    "        df_dum.loc[index,'Month_bins'] ='1st_season'\n",
    "    elif (item >=4 and item < 7):\n",
    "        df_dum.loc[index,'Month_bins'] ='2nd_season'\n",
    "    elif (item >=7 and item < 10):\n",
    "        df_dum.loc[index,'Month_bins'] ='3rd_season'\n",
    "    elif (item >= 10 and item < 13):\n",
    "        df_dum.loc[index,'Month_bins'] ='4th_season'"
   ]
  },
  {
   "cell_type": "code",
   "execution_count": 63,
   "metadata": {},
   "outputs": [],
   "source": [
    "for index, item in enumerate(df_dum.loc[:,'VisitorType']):\n",
    "    if item == 1:\n",
    "        df_dum.loc[index,'VisitorType_bins'] ='return'\n",
    "    else:\n",
    "        df_dum.loc[index,'VisitorType_bins'] ='not_return'"
   ]
  },
  {
   "cell_type": "code",
   "execution_count": 64,
   "metadata": {},
   "outputs": [],
   "source": [
    "for index, item in enumerate(df_dum.loc[:,'Informational']):\n",
    "    if item == 0:\n",
    "        df_dum.loc[index,'Informational_bins'] ='page_0'\n",
    "    else:\n",
    "        df_dum.loc[index,'Informational_bins'] ='page_1_plus'"
   ]
  },
  {
   "cell_type": "code",
   "execution_count": 65,
   "metadata": {},
   "outputs": [],
   "source": [
    "for index, item in enumerate(df_dum.loc[:,'SpecialDay']):\n",
    "    if item == 0:\n",
    "        df_dum.loc[index,'SpecialDay_bins'] ='no'\n",
    "    else:\n",
    "        df_dum.loc[index,'SpecialDay_bins'] ='yes'"
   ]
  },
  {
   "cell_type": "code",
   "execution_count": 66,
   "metadata": {},
   "outputs": [
    {
     "data": {
      "text/plain": [
       "Index(['Revenue', 'PageValues', 'ExitRates', 'ProductRelated_Duration', 'Administrative_Duration', 'Month', 'VisitorType', 'Informational', 'SpecialDay', 'PageValues_bins', 'Month_bins', 'VisitorType_bins', 'Informational_bins', 'SpecialDay_bins'], dtype='object')"
      ]
     },
     "execution_count": 66,
     "metadata": {},
     "output_type": "execute_result"
    }
   ],
   "source": [
    "df_dum.columns"
   ]
  },
  {
   "cell_type": "code",
   "execution_count": 67,
   "metadata": {},
   "outputs": [],
   "source": [
    "cate_cols = df_dum.drop(columns = ['Revenue','PageValues', 'ExitRates', 'ProductRelated_Duration', 'Administrative_Duration','Informational','VisitorType'])\n",
    "df_dummies = pd.get_dummies(cate_cols.astype(str))"
   ]
  },
  {
   "cell_type": "code",
   "execution_count": 68,
   "metadata": {},
   "outputs": [],
   "source": [
    "#df_dummies.head()"
   ]
  },
  {
   "cell_type": "code",
   "execution_count": 69,
   "metadata": {},
   "outputs": [],
   "source": [
    "df_dum_all = pd.concat([df_dum, df_dummies], axis = 1)"
   ]
  },
  {
   "cell_type": "code",
   "execution_count": 70,
   "metadata": {},
   "outputs": [],
   "source": [
    "df_dum_all.drop(columns = ['Month','VisitorType','SpecialDay','PageValues_bins', 'Month_bins', 'VisitorType_bins', 'Informational_bins', 'SpecialDay_bins','PageValues_bins_equal_0','VisitorType_bins_not_return','SpecialDay_bins_no','Informational_bins_page_0'], inplace = True)"
   ]
  },
  {
   "cell_type": "code",
   "execution_count": 71,
   "metadata": {},
   "outputs": [
    {
     "data": {
      "text/plain": [
       "Index(['Revenue', 'PageValues', 'ExitRates', 'ProductRelated_Duration', 'Administrative_Duration', 'Informational', 'Month_10', 'Month_11', 'Month_12', 'Month_2', 'Month_3', 'Month_5', 'Month_6', 'Month_7', 'Month_8', 'Month_9', 'SpecialDay_0.0', 'SpecialDay_0.2', 'SpecialDay_0.4', 'SpecialDay_0.6', 'SpecialDay_0.8', 'SpecialDay_1.0', 'PageValues_bins_above_0', 'Month_bins_1st_season', 'Month_bins_2nd_season', 'Month_bins_3rd_season', 'Month_bins_4th_season', 'VisitorType_bins_return', 'Informational_bins_page_1_plus', 'SpecialDay_bins_yes'], dtype='object')"
      ]
     },
     "execution_count": 71,
     "metadata": {},
     "output_type": "execute_result"
    }
   ],
   "source": [
    "df_dum_all.columns"
   ]
  },
  {
   "cell_type": "code",
   "execution_count": 72,
   "metadata": {},
   "outputs": [
    {
     "data": {
      "text/plain": [
       "30"
      ]
     },
     "execution_count": 72,
     "metadata": {},
     "output_type": "execute_result"
    }
   ],
   "source": [
    "len(df_dum_all.columns)"
   ]
  },
  {
   "cell_type": "markdown",
   "metadata": {},
   "source": [
    "## Feature Selection with dummies features"
   ]
  },
  {
   "cell_type": "markdown",
   "metadata": {},
   "source": [
    "'PageValues',     0.5956   need to drop one\n",
    "'PageValues_bins_above_0', \n",
    "'Month_11',   0.6555  need to drop one\n",
    "'Month_bins_4th_season'\n",
    "'ExitRates', \n",
    "'ProductRelated_Duration', \n",
    "'Administrative_Duration', \n",
    "\n",
    "                                  Correlation  IV\n",
    "Revenue                           1.000000   \n",
    "PageValues_bins_above_0           0.600289   2.41 Suspicious    \n",
    "     PageValues                        0.495700   2.26 Suspicious\n",
    "ExitRates                         0.205205   0.69 Suspicious\n",
    "Month_11                          0.151220   0.16 Medium\n",
    "ProductRelated_Duration           0.139833   0.43 Strong\n",
    "Administrative_Duration           0.088759   0.15 Medium\n",
    "     Month_bins_4th_season             0.127215   0.12 Medium\n",
    "Informational_bins_page_1_plus    0.114106   0.09 W\n",
    "VisitorType_bins_return           0.108290   0.08 W\n",
    "     Informational                     0.096208   0.05 W\n",
    "SpecialDay_0.0                    0.092788   0.10 Medium\n",
    "SpecialDay_bins_yes               0.092788   0.10 Medium\n",
    "Month_bins_2nd_season             0.084867   0.06 W\n",
    "Month_bins_1st_season             0.081513   0.06 W\n",
    "     Month_5                           0.077743   0.05 W\n",
    "     Month_3                           0.069603   0.04 W\n",
    "     SpecialDay_0.8                    0.058680   0.05 W\n",
    "\n",
    "\n",
    "\n",
    "column: Month_10\n",
    "IV score: 0.01\n",
    "column: Month_12\n",
    "IV score: 0.01\n",
    "column: Month_2\n",
    "IV score: 0.04\n",
    "column: Month_6\n",
    "IV score: 0.01\n",
    "column: Month_7\n",
    "IV score: 0.00\n",
    "column: Month_8\n",
    "IV score: 0.00\n",
    "column: Month_9\n",
    "IV score: 0.00\n",
    "column: SpecialDay_0.2\n",
    "IV score: 0.00\n",
    "column: SpecialDay_0.4\n",
    "IV score: 0.02\n",
    "column: SpecialDay_0.6\n",
    "IV score: 0.02\n",
    "column: SpecialDay_1.0\n",
    "IV score: 0.01\n",
    "column: Month_bins_3rd_season\n",
    "IV score: 0.00"
   ]
  },
  {
   "cell_type": "markdown",
   "metadata": {},
   "source": [
    "'Revenue','PageValues_bins_above_0', 'ExitRates,Month_11', 'ProductRelated_Duration', 'Administrative_Duration','Informational_bins_page_1_plus','VisitorType_bins_return'"
   ]
  },
  {
   "cell_type": "markdown",
   "metadata": {},
   "source": [
    "## Data preparation for feature selector filter"
   ]
  },
  {
   "cell_type": "code",
   "execution_count": 76,
   "metadata": {},
   "outputs": [],
   "source": [
    "# initial train_test_split\n",
    "X_train_dum, X_test_dum, y_train_dum, y_test_dum = train_test_split(df_dum_all.drop('Revenue', axis=1), df['Revenue'], test_size = 0.2, random_state=42)"
   ]
  },
  {
   "cell_type": "code",
   "execution_count": 77,
   "metadata": {},
   "outputs": [],
   "source": [
    "# SMOTE AND SCALE\n",
    "X_train_dum_smoted, y_train_dum_smoted = SMOTE(random_state=42).fit_sample(X_train_dum,y_train_dum)\n",
    "\n",
    "std_scale = StandardScaler()\n",
    "X_train_dum_smoted_scaled = std_scale.fit_transform(X_train_dum_smoted)\n",
    "X_test_dum_scaled = std_scale.transform(X_test_dum.values)"
   ]
  },
  {
   "cell_type": "code",
   "execution_count": 78,
   "metadata": {},
   "outputs": [],
   "source": [
    "# df_train\n",
    "df_X_train_dum = pd.DataFrame(X_train_dum).reset_index().iloc[:,1:]\n",
    "df_y_train_dum = pd.DataFrame(y_train_dum).reset_index().iloc[:,1]\n",
    "df_train_dum = pd.concat([df_y_train_dum, df_X_train_dum], axis = 1, ignore_index = True)\n",
    "df_train_dum.columns = df_dum_all.columns\n",
    "\n",
    "# df_test\n",
    "df_X_test_dum = pd.DataFrame(X_test_dum).reset_index().iloc[:,1:]\n",
    "df_y_test_dum = pd.DataFrame(y_test_dum).reset_index().iloc[:,1]\n",
    "df_test_dum = pd.concat([df_y_test_dum, df_X_test_dum], axis = 1, ignore_index = True)\n",
    "df_test_dum.columns = df_dum_all.columns"
   ]
  },
  {
   "cell_type": "code",
   "execution_count": 79,
   "metadata": {},
   "outputs": [],
   "source": [
    "#df_train_dum"
   ]
  },
  {
   "cell_type": "markdown",
   "metadata": {},
   "source": [
    "## SelectFromModel"
   ]
  },
  {
   "cell_type": "code",
   "execution_count": 80,
   "metadata": {},
   "outputs": [
    {
     "data": {
      "text/plain": [
       "SelectFromModel(estimator=RandomForestClassifier(bootstrap=True, ccp_alpha=0.0,\n",
       "                                                 class_weight=None,\n",
       "                                                 criterion='gini',\n",
       "                                                 max_depth=None,\n",
       "                                                 max_features='auto',\n",
       "                                                 max_leaf_nodes=None,\n",
       "                                                 max_samples=None,\n",
       "                                                 min_impurity_decrease=0.0,\n",
       "                                                 min_impurity_split=None,\n",
       "                                                 min_samples_leaf=1,\n",
       "                                                 min_samples_split=2,\n",
       "                                                 min_weight_fraction_leaf=0.0,\n",
       "                                                 n_estimators=500, n_jobs=None,\n",
       "                                                 oob_score=False,\n",
       "                                                 random_state=None, verbose=0,\n",
       "                                                 warm_start=False),\n",
       "                max_features=None, norm_order=1, prefit=False, threshold=None)"
      ]
     },
     "execution_count": 80,
     "metadata": {},
     "output_type": "execute_result"
    }
   ],
   "source": [
    "sel = SelectFromModel(RandomForestClassifier(n_estimators = 500))\n",
    "sel.fit(X_train_dum_smoted_scaled, y_train_dum_smoted) "
   ]
  },
  {
   "cell_type": "code",
   "execution_count": 81,
   "metadata": {},
   "outputs": [
    {
     "data": {
      "text/plain": [
       "Index(['PageValues', 'ExitRates', 'ProductRelated_Duration', 'Administrative_Duration', 'PageValues_bins_above_0'], dtype='object')"
      ]
     },
     "execution_count": 81,
     "metadata": {},
     "output_type": "execute_result"
    }
   ],
   "source": [
    "selected_feat_dum = X_train_dum.columns[(sel.get_support())]\n",
    "selected_feat_dum"
   ]
  },
  {
   "cell_type": "markdown",
   "metadata": {},
   "source": [
    "## Information Values"
   ]
  },
  {
   "cell_type": "code",
   "execution_count": 82,
   "metadata": {},
   "outputs": [],
   "source": [
    "df_iv_dum = df_train_dum.copy()\n",
    "\n",
    "df_iv_dum['Administrative_Duration_Bins'] = pd.qcut(df_iv_dum['Administrative_Duration'], 5, labels= False, duplicates = 'drop')\n",
    "df_iv_dum['Informational_Bins'] = pd.qcut(df_iv_dum['Informational'], 5, labels= False, duplicates = 'drop')\n",
    "df_iv_dum['ProductRelated_Duration_Bins'] = pd.qcut(df_iv_dum['ProductRelated_Duration'], 5, labels= False, duplicates = 'drop')\n",
    "df_iv_dum['ExitRates_Bins'] = pd.qcut(df_iv_dum['ExitRates'], 5, labels= False, duplicates = 'drop')\n",
    "df_iv_dum['PageValues_Bins'] = pd.qcut(df_iv_dum['PageValues'], 5, labels= False, duplicates = 'drop')\n",
    "\n",
    "df_iv_dum.drop(['Administrative_Duration','Informational','ProductRelated_Duration','ExitRates','PageValues'], axis=1, inplace=True)"
   ]
  },
  {
   "cell_type": "code",
   "execution_count": 83,
   "metadata": {},
   "outputs": [],
   "source": [
    "for col in df_iv_dum.columns:\n",
    "    if col == 'Revenue': continue\n",
    "    else:\n",
    "        #print('column: {}'.format(col))\n",
    "        iv = calculate_woe_iv(df_iv_dum, col, 'Revenue')\n",
    "        #print('IV score: {:.2f}'.format(iv))\n",
    "        #print('\\n')"
   ]
  },
  {
   "cell_type": "markdown",
   "metadata": {},
   "source": [
    "## Correlation values"
   ]
  },
  {
   "cell_type": "code",
   "execution_count": 84,
   "metadata": {},
   "outputs": [],
   "source": [
    "#abs(df_train_dum.corr().loc['Month_bins_2nd_season',:]).sort_values(ascending = False)"
   ]
  },
  {
   "cell_type": "code",
   "execution_count": 85,
   "metadata": {},
   "outputs": [],
   "source": [
    "#abs(df_train_dum.corr().loc['Revenue',:]).sort_values(ascending = False)"
   ]
  },
  {
   "cell_type": "code",
   "execution_count": 86,
   "metadata": {},
   "outputs": [
    {
     "data": {
      "text/plain": [
       "Index(['Revenue', 'PageValues', 'ExitRates', 'ProductRelated_Duration', 'Administrative_Duration', 'Informational', 'Month_10', 'Month_11', 'Month_12', 'Month_2', 'Month_3', 'Month_5', 'Month_6', 'Month_7', 'Month_8', 'Month_9', 'SpecialDay_0.0', 'SpecialDay_0.2', 'SpecialDay_0.4', 'SpecialDay_0.6', 'SpecialDay_0.8', 'SpecialDay_1.0', 'PageValues_bins_above_0', 'Month_bins_1st_season', 'Month_bins_2nd_season', 'Month_bins_3rd_season', 'Month_bins_4th_season', 'VisitorType_bins_return', 'Informational_bins_page_1_plus', 'SpecialDay_bins_yes'], dtype='object')"
      ]
     },
     "execution_count": 86,
     "metadata": {},
     "output_type": "execute_result"
    }
   ],
   "source": [
    "df_dum_all.columns"
   ]
  },
  {
   "cell_type": "code",
   "execution_count": 87,
   "metadata": {},
   "outputs": [],
   "source": [
    "df_final = df_dum_all[['Revenue','PageValues_bins_above_0', 'ExitRates','Month_11', 'ProductRelated_Duration', 'Administrative_Duration','Informational_bins_page_1_plus','VisitorType_bins_return']]"
   ]
  },
  {
   "cell_type": "code",
   "execution_count": 88,
   "metadata": {},
   "outputs": [
    {
     "data": {
      "text/html": [
       "<div>\n",
       "<style scoped>\n",
       "    .dataframe tbody tr th:only-of-type {\n",
       "        vertical-align: middle;\n",
       "    }\n",
       "\n",
       "    .dataframe tbody tr th {\n",
       "        vertical-align: top;\n",
       "    }\n",
       "\n",
       "    .dataframe thead th {\n",
       "        text-align: right;\n",
       "    }\n",
       "</style>\n",
       "<table border=\"1\" class=\"dataframe\">\n",
       "  <thead>\n",
       "    <tr style=\"text-align: right;\">\n",
       "      <th></th>\n",
       "      <th>Revenue</th>\n",
       "      <th>PageValues_bins_above_0</th>\n",
       "      <th>ExitRates</th>\n",
       "      <th>Month_11</th>\n",
       "      <th>ProductRelated_Duration</th>\n",
       "      <th>Administrative_Duration</th>\n",
       "      <th>Informational_bins_page_1_plus</th>\n",
       "      <th>VisitorType_bins_return</th>\n",
       "    </tr>\n",
       "  </thead>\n",
       "  <tbody>\n",
       "    <tr>\n",
       "      <th>0</th>\n",
       "      <td>0</td>\n",
       "      <td>0</td>\n",
       "      <td>0.20</td>\n",
       "      <td>0</td>\n",
       "      <td>0.000000</td>\n",
       "      <td>0.0</td>\n",
       "      <td>0</td>\n",
       "      <td>1</td>\n",
       "    </tr>\n",
       "    <tr>\n",
       "      <th>1</th>\n",
       "      <td>0</td>\n",
       "      <td>0</td>\n",
       "      <td>0.10</td>\n",
       "      <td>0</td>\n",
       "      <td>64.000000</td>\n",
       "      <td>0.0</td>\n",
       "      <td>0</td>\n",
       "      <td>1</td>\n",
       "    </tr>\n",
       "    <tr>\n",
       "      <th>2</th>\n",
       "      <td>0</td>\n",
       "      <td>0</td>\n",
       "      <td>0.20</td>\n",
       "      <td>0</td>\n",
       "      <td>0.000000</td>\n",
       "      <td>0.0</td>\n",
       "      <td>0</td>\n",
       "      <td>1</td>\n",
       "    </tr>\n",
       "    <tr>\n",
       "      <th>3</th>\n",
       "      <td>0</td>\n",
       "      <td>0</td>\n",
       "      <td>0.14</td>\n",
       "      <td>0</td>\n",
       "      <td>2.666667</td>\n",
       "      <td>0.0</td>\n",
       "      <td>0</td>\n",
       "      <td>1</td>\n",
       "    </tr>\n",
       "    <tr>\n",
       "      <th>4</th>\n",
       "      <td>0</td>\n",
       "      <td>0</td>\n",
       "      <td>0.05</td>\n",
       "      <td>0</td>\n",
       "      <td>627.500000</td>\n",
       "      <td>0.0</td>\n",
       "      <td>0</td>\n",
       "      <td>1</td>\n",
       "    </tr>\n",
       "  </tbody>\n",
       "</table>\n",
       "</div>"
      ],
      "text/plain": [
       "   Revenue  PageValues_bins_above_0  ExitRates  Month_11  ProductRelated_Duration  Administrative_Duration  Informational_bins_page_1_plus  VisitorType_bins_return\n",
       "0        0                        0       0.20         0                 0.000000                      0.0                               0                        1\n",
       "1        0                        0       0.10         0                64.000000                      0.0                               0                        1\n",
       "2        0                        0       0.20         0                 0.000000                      0.0                               0                        1\n",
       "3        0                        0       0.14         0                 2.666667                      0.0                               0                        1\n",
       "4        0                        0       0.05         0               627.500000                      0.0                               0                        1"
      ]
     },
     "execution_count": 88,
     "metadata": {},
     "output_type": "execute_result"
    }
   ],
   "source": [
    "df_final.head()"
   ]
  },
  {
   "cell_type": "code",
   "execution_count": 89,
   "metadata": {},
   "outputs": [
    {
     "data": {
      "text/plain": [
       "Index(['Revenue', 'PageValues_bins_above_0', 'ExitRates', 'Month_11', 'ProductRelated_Duration', 'Administrative_Duration', 'Informational_bins_page_1_plus', 'VisitorType_bins_return'], dtype='object')"
      ]
     },
     "execution_count": 89,
     "metadata": {},
     "output_type": "execute_result"
    }
   ],
   "source": [
    "df_final.columns"
   ]
  },
  {
   "cell_type": "code",
   "execution_count": 99,
   "metadata": {},
   "outputs": [],
   "source": [
    "with open(\"finaldataset.pickle\", \"wb\") as pfile:\n",
    "        pickle.dump(df_final, pfile)"
   ]
  },
  {
   "cell_type": "code",
   "execution_count": 5,
   "metadata": {},
   "outputs": [],
   "source": [
    "with open(\"finaldataset.pickle\", \"rb\") as read_file:\n",
    "    df_model = pickle.load(read_file)"
   ]
  },
  {
   "cell_type": "code",
   "execution_count": 91,
   "metadata": {},
   "outputs": [
    {
     "data": {
      "image/png": "[encoded data removed]",
      "text/plain": [
       "<Figure size 1008x720 with 2 Axes>"
      ]
     },
     "metadata": {
      "needs_background": "light"
     },
     "output_type": "display_data"
    }
   ],
   "source": [
    "plt.subplots(figsize = (14,10))\n",
    "hm = sns.heatmap(df_model.corr(), cmap=\"BuPu\", annot=True)"
   ]
  },
  {
   "cell_type": "markdown",
   "metadata": {},
   "source": [
    "# Model Performance after 2nd feature selection"
   ]
  },
  {
   "cell_type": "markdown",
   "metadata": {},
   "source": [
    "|Model|Recall 1st|Recall 2nd|F1 1st|F1 2nd|new Accuracy|\n",
    "|--|--|--|--|--|--|\n",
    "|EXTRA trees|0.754|0.793|0.660|0.676|0.873|\n",
    "|Logistic regression|0.749|0.616|0.665|0.625|0.877|\n",
    "|Random forest|0.742|0.584|0.654|0.605|0.873|\n",
    "|AdaBoost|0.710|0.827|0.654|0.664|0.861|"
   ]
  },
  {
   "cell_type": "code",
   "execution_count": 27,
   "metadata": {},
   "outputs": [],
   "source": [
    "X_tra, X_tes, y_tra, y_tes = train_test_split(df_model.drop('Revenue', axis=1), df_model['Revenue'], \n",
    "                                                    test_size = 0.2, random_state=42)\n",
    "X_tra_smote, y_tra_smote = SMOTE(random_state=42).fit_sample(X_tra, y_tra)\n",
    "\n",
    "X_tra_smote_scaled = std_scale.fit_transform(X_tra_smote)\n",
    "X_tes_smote_scaled = std_scale.transform(X_tes)"
   ]
  },
  {
   "cell_type": "code",
   "execution_count": 93,
   "metadata": {},
   "outputs": [],
   "source": [
    "models_na = [\"rf_model\", \"et_model\", \"ada_model\", \"lr_model\"]\n",
    "for model_name in models_na:\n",
    "    curr_model = eval(model_name)\n",
    "    curr_model.fit(X_tra_smote_scaled, y_tra_smote) \n",
    "    \n",
    "    with open(f\"la{model_name}.pickle\", \"wb\") as pfile:\n",
    "        pickle.dump(curr_model, pfile)"
   ]
  },
  {
   "cell_type": "code",
   "execution_count": 94,
   "metadata": {},
   "outputs": [],
   "source": [
    "for model_name in models_na:\n",
    "    with open(f\"la{model_name}.pickle\", \"rb\") as pfile:\n",
    "        exec(f\"{model_name} = pickle.load(pfile)\")\n",
    "\n",
    "model_vars_na = [eval(n) for n in models_na]\n",
    "model_list_na = list(zip(models_na, model_vars_na))"
   ]
  },
  {
   "cell_type": "code",
   "execution_count": 95,
   "metadata": {},
   "outputs": [
    {
     "name": "stdout",
     "output_type": "stream",
     "text": [
      "Accuracy:  0.83779399837794\n",
      "Precision :  0.5096660808435852\n",
      "Recall :  0.7055961070559611\n",
      "Specificity :  0.8642335766423358\n",
      "F1 score:  0.5918367346938775\n",
      "Logistic loss:  5.602487285339537\n",
      "Confusion Matrix:  \n",
      " [[1776  279]\n",
      " [ 121  290]]\n",
      "rf_model scores: None\n",
      "Accuracy:  0.843065693430657\n",
      "Precision :  0.5215827338129496\n",
      "Recall :  0.7055961070559611\n",
      "Specificity :  0.8705596107055961\n",
      "F1 score:  0.5997931747673215\n",
      "Logistic loss:  5.420405173457772\n",
      "Confusion Matrix:  \n",
      " [[1789  266]\n",
      " [ 121  290]]\n",
      "et_model scores: None\n",
      "Accuracy:  0.8264395782643957\n",
      "Precision :  0.4876632801161103\n",
      "Recall :  0.8175182481751825\n",
      "Specificity :  0.8282238442822385\n",
      "F1 score:  0.6109090909090908\n",
      "Logistic loss:  5.9946790571429975\n",
      "Confusion Matrix:  \n",
      " [[1702  353]\n",
      " [  75  336]]\n",
      "ada_model scores: None\n",
      "Accuracy:  0.8126520681265207\n",
      "Precision :  0.4657718120805369\n",
      "Recall :  0.8442822384428224\n",
      "Specificity :  0.8063260340632603\n",
      "F1 score:  0.6003460207612457\n",
      "Logistic loss:  6.470897378031612\n",
      "Confusion Matrix:  \n",
      " [[1657  398]\n",
      " [  64  347]]\n",
      "lr_model scores: None\n"
     ]
    }
   ],
   "source": [
    "for model_name in models_na:\n",
    "    curr_model = eval(model_name)\n",
    "    print(f'{model_name} scores: {model_metrics(curr_model, X_tes_smote_scaled, y_tes)}')"
   ]
  },
  {
   "cell_type": "markdown",
   "metadata": {},
   "source": [
    "# Model Tuning\n",
    "\n",
    "|Model|Recall before tuning|Recall RandomizedSearch|Recall GridSearch|F1|Accuracy|\n",
    "|:--:|:--:|:--:|:--:|:--:|:--:|\n",
    "|EXTRA trees|0.793|0.825|0.830|0.643|0.847|\n",
    "|AdaBoost|0.827|0.830|0.832|0.610|0.823|"
   ]
  },
  {
   "cell_type": "markdown",
   "metadata": {},
   "source": [
    "# Tuning using RandomizedSearchCV"
   ]
  },
  {
   "cell_type": "code",
   "execution_count": 106,
   "metadata": {},
   "outputs": [
    {
     "name": "stdout",
     "output_type": "stream",
     "text": [
      "{'bootstrap': [True, False],\n",
      " 'max_depth': [10, 11, 12, 13, 15],\n",
      " 'max_features': ['auto'],\n",
      " 'min_samples_leaf': [2, 3],\n",
      " 'min_samples_split': [2, 3],\n",
      " 'n_estimators': [5, 11, 17, 23, 30]}\n"
     ]
    }
   ],
   "source": [
    "from pprint import pprint\n",
    "\n",
    "from sklearn.model_selection import RandomizedSearchCV\n",
    "# Number of trees in random forest\n",
    "n_estimators = [int(x) for x in np.linspace(start = 5, stop = 30, num = 5)]\n",
    "# Number of features to consider at every split\n",
    "max_features = ['auto']\n",
    "# Maximum number of levels in tree\n",
    "max_depth = [int(x) for x in np.linspace(10, 15, num = 5)]\n",
    "# max_depth.append(None)\n",
    "# Minimum number of samples required to split a node\n",
    "min_samples_split = [2, 3]\n",
    "# Minimum number of samples required at each leaf node\n",
    "min_samples_leaf = [2, 3]\n",
    "# Method of selecting samples for training each tree\n",
    "bootstrap = [True, False]\n",
    "# Create the random grid\n",
    "random_grid = {'n_estimators': n_estimators,\n",
    "               'max_features': max_features,\n",
    "               'max_depth': max_depth,\n",
    "               'min_samples_split': min_samples_split,\n",
    "               'min_samples_leaf': min_samples_leaf,\n",
    "               'bootstrap': bootstrap}\n",
    "pprint(random_grid)"
   ]
  },
  {
   "cell_type": "markdown",
   "metadata": {},
   "source": [
    "# Random Forest"
   ]
  },
  {
   "cell_type": "code",
   "execution_count": 97,
   "metadata": {},
   "outputs": [
    {
     "name": "stdout",
     "output_type": "stream",
     "text": [
      "Fitting 3 folds for each of 100 candidates, totalling 300 fits\n"
     ]
    },
    {
     "name": "stderr",
     "output_type": "stream",
     "text": [
      "[Parallel(n_jobs=-1)]: Using backend LokyBackend with 4 concurrent workers.\n",
      "[Parallel(n_jobs=-1)]: Done  33 tasks      | elapsed:  1.0min\n",
      "[Parallel(n_jobs=-1)]: Done 154 tasks      | elapsed:  4.7min\n",
      "[Parallel(n_jobs=-1)]: Done 300 out of 300 | elapsed:  9.2min finished\n"
     ]
    },
    {
     "data": {
      "text/plain": [
       "RandomizedSearchCV(cv=3, error_score=nan,\n",
       "                   estimator=RandomForestClassifier(bootstrap=True,\n",
       "                                                    ccp_alpha=0.0,\n",
       "                                                    class_weight=None,\n",
       "                                                    criterion='gini',\n",
       "                                                    max_depth=None,\n",
       "                                                    max_features='auto',\n",
       "                                                    max_leaf_nodes=None,\n",
       "                                                    max_samples=None,\n",
       "                                                    min_impurity_decrease=0.0,\n",
       "                                                    min_impurity_split=None,\n",
       "                                                    min_samples_leaf=1,\n",
       "                                                    min_samples_split=2,\n",
       "                                                    min_weight_fraction_leaf=0.0,\n",
       "                                                    n_estimators=100,\n",
       "                                                    n_jobs...\n",
       "                                                    verbose=0,\n",
       "                                                    warm_start=False),\n",
       "                   iid='deprecated', n_iter=100, n_jobs=-1,\n",
       "                   param_distributions={'bootstrap': [True, False],\n",
       "                                        'max_depth': [10, 11, 12, 13, 15],\n",
       "                                        'max_features': ['auto'],\n",
       "                                        'min_samples_leaf': [2, 3],\n",
       "                                        'min_samples_split': [2, 3],\n",
       "                                        'n_estimators': [320, 335, 350, 365,\n",
       "                                                         380]},\n",
       "                   pre_dispatch='2*n_jobs', random_state=42, refit=True,\n",
       "                   return_train_score=False, scoring=None, verbose=2)"
      ]
     },
     "execution_count": 97,
     "metadata": {},
     "output_type": "execute_result"
    }
   ],
   "source": [
    "# Use the random grid to search for best hyperparameters\n",
    "# First create the base model to tune\n",
    "rf = RandomForestClassifier()\n",
    "# Random search of parameters, using 3 fold cross validation, \n",
    "# search across 100 different combinations, and use all available cores\n",
    "rf_random = RandomizedSearchCV(estimator = rf, param_distributions = random_grid, n_iter = 100, cv = 3, verbose=2, random_state=42, n_jobs = -1)\n",
    "# Fit the random search model\n",
    "rf_random.fit(X_tra_smote_scaled, y_tra_smote)"
   ]
  },
  {
   "cell_type": "code",
   "execution_count": 98,
   "metadata": {},
   "outputs": [
    {
     "data": {
      "text/plain": [
       "{'n_estimators': 380,\n",
       " 'min_samples_split': 3,\n",
       " 'min_samples_leaf': 2,\n",
       " 'max_features': 'auto',\n",
       " 'max_depth': 15,\n",
       " 'bootstrap': False}"
      ]
     },
     "execution_count": 98,
     "metadata": {},
     "output_type": "execute_result"
    }
   ],
   "source": [
    "rf_random.best_params_"
   ]
  },
  {
   "cell_type": "code",
   "execution_count": 100,
   "metadata": {},
   "outputs": [
    {
     "name": "stdout",
     "output_type": "stream",
     "text": [
      "Accuracy:  0.8442822384428224\n",
      "Precision :  0.523725834797891\n",
      "Recall :  0.7250608272506083\n",
      "Specificity :  0.8681265206812652\n",
      "F1 score:  0.6081632653061224\n",
      "Logistic loss:  5.378388818552022\n",
      "Confusion Matrix:  \n",
      " [[1784  271]\n",
      " [ 113  298]]\n"
     ]
    }
   ],
   "source": [
    "best_random = rf_random.best_estimator_\n",
    "model_metrics(best_random, X_tes_smote_scaled, y_tes)"
   ]
  },
  {
   "cell_type": "markdown",
   "metadata": {},
   "source": [
    "# ET"
   ]
  },
  {
   "cell_type": "code",
   "execution_count": 12,
   "metadata": {},
   "outputs": [],
   "source": [
    "et = ensemble.ExtraTreesClassifier()"
   ]
  },
  {
   "cell_type": "code",
   "execution_count": 107,
   "metadata": {},
   "outputs": [
    {
     "name": "stdout",
     "output_type": "stream",
     "text": [
      "Fitting 3 folds for each of 100 candidates, totalling 300 fits\n"
     ]
    },
    {
     "name": "stderr",
     "output_type": "stream",
     "text": [
      "[Parallel(n_jobs=-1)]: Using backend LokyBackend with 4 concurrent workers.\n",
      "[Parallel(n_jobs=-1)]: Done  58 tasks      | elapsed:    2.3s\n",
      "[Parallel(n_jobs=-1)]: Done 293 out of 300 | elapsed:   10.6s remaining:    0.3s\n",
      "[Parallel(n_jobs=-1)]: Done 300 out of 300 | elapsed:   10.7s finished\n"
     ]
    },
    {
     "data": {
      "text/plain": [
       "RandomizedSearchCV(cv=3, error_score=nan,\n",
       "                   estimator=ExtraTreesClassifier(bootstrap=False,\n",
       "                                                  ccp_alpha=0.0,\n",
       "                                                  class_weight=None,\n",
       "                                                  criterion='gini',\n",
       "                                                  max_depth=None,\n",
       "                                                  max_features='auto',\n",
       "                                                  max_leaf_nodes=None,\n",
       "                                                  max_samples=None,\n",
       "                                                  min_impurity_decrease=0.0,\n",
       "                                                  min_impurity_split=None,\n",
       "                                                  min_samples_leaf=1,\n",
       "                                                  min_samples_split=2,\n",
       "                                                  min_weight_fraction_leaf=0.0,\n",
       "                                                  n_estimators=100, n_jobs=...\n",
       "                                                  random_state=None, verbose=0,\n",
       "                                                  warm_start=False),\n",
       "                   iid='deprecated', n_iter=100, n_jobs=-1,\n",
       "                   param_distributions={'bootstrap': [True, False],\n",
       "                                        'max_depth': [10, 11, 12, 13, 15],\n",
       "                                        'max_features': ['auto'],\n",
       "                                        'min_samples_leaf': [2, 3],\n",
       "                                        'min_samples_split': [2, 3],\n",
       "                                        'n_estimators': [5, 11, 17, 23, 30]},\n",
       "                   pre_dispatch='2*n_jobs', random_state=42, refit=True,\n",
       "                   return_train_score=False, scoring=None, verbose=2)"
      ]
     },
     "execution_count": 107,
     "metadata": {},
     "output_type": "execute_result"
    }
   ],
   "source": [
    "et_random = RandomizedSearchCV(estimator = et, param_distributions = random_grid, n_iter = 100, cv = 3, verbose=2, random_state=42, n_jobs = -1)\n",
    "et_random.fit(X_tra_smote_scaled, y_tra_smote)"
   ]
  },
  {
   "cell_type": "code",
   "execution_count": 108,
   "metadata": {},
   "outputs": [
    {
     "data": {
      "text/plain": [
       "{'n_estimators': 17,\n",
       " 'min_samples_split': 3,\n",
       " 'min_samples_leaf': 2,\n",
       " 'max_features': 'auto',\n",
       " 'max_depth': 15,\n",
       " 'bootstrap': False}"
      ]
     },
     "execution_count": 108,
     "metadata": {},
     "output_type": "execute_result"
    }
   ],
   "source": [
    "et_random.best_params_"
   ]
  },
  {
   "cell_type": "code",
   "execution_count": 109,
   "metadata": {},
   "outputs": [
    {
     "name": "stdout",
     "output_type": "stream",
     "text": [
      "Accuracy:  0.8495539334955393\n",
      "Precision :  0.5313479623824452\n",
      "Recall :  0.8248175182481752\n",
      "Specificity :  0.8545012165450122\n",
      "F1 score:  0.646329837940896\n",
      "Logistic loss:  5.196320000869219\n",
      "Confusion Matrix:  \n",
      " [[1756  299]\n",
      " [  72  339]]\n"
     ]
    }
   ],
   "source": [
    "best_random = et_random.best_estimator_\n",
    "model_metrics(best_random, X_tes_smote_scaled, y_tes)"
   ]
  },
  {
   "cell_type": "markdown",
   "metadata": {},
   "source": [
    "# ADABoost"
   ]
  },
  {
   "cell_type": "code",
   "execution_count": 15,
   "metadata": {},
   "outputs": [],
   "source": [
    "ada = ensemble.AdaBoostClassifier()"
   ]
  },
  {
   "cell_type": "code",
   "execution_count": 118,
   "metadata": {},
   "outputs": [],
   "source": [
    "param_dist = {\n",
    " 'n_estimators': [50,150,200,300,400,500],\n",
    " 'learning_rate' : [0.2,0.3,0.4,0.5]\n",
    " }"
   ]
  },
  {
   "cell_type": "code",
   "execution_count": 115,
   "metadata": {},
   "outputs": [
    {
     "name": "stdout",
     "output_type": "stream",
     "text": [
      "Fitting 3 folds for each of 24 candidates, totalling 72 fits\n"
     ]
    },
    {
     "name": "stderr",
     "output_type": "stream",
     "text": [
      "/opt/anaconda3/lib/python3.7/site-packages/sklearn/model_selection/_search.py:281: UserWarning: The total space of parameters 24 is smaller than n_iter=100. Running 24 iterations. For exhaustive searches, use GridSearchCV.\n",
      "  % (grid_size, self.n_iter, grid_size), UserWarning)\n",
      "[Parallel(n_jobs=-1)]: Using backend LokyBackend with 4 concurrent workers.\n",
      "[Parallel(n_jobs=-1)]: Done  33 tasks      | elapsed:   15.1s\n",
      "[Parallel(n_jobs=-1)]: Done  72 out of  72 | elapsed:   28.6s finished\n"
     ]
    },
    {
     "data": {
      "text/plain": [
       "RandomizedSearchCV(cv=3, error_score=nan,\n",
       "                   estimator=AdaBoostClassifier(algorithm='SAMME.R',\n",
       "                                                base_estimator=None,\n",
       "                                                learning_rate=1.0,\n",
       "                                                n_estimators=50,\n",
       "                                                random_state=None),\n",
       "                   iid='deprecated', n_iter=100, n_jobs=-1,\n",
       "                   param_distributions={'learning_rate': [0.2, 0.3, 0.4, 0.5],\n",
       "                                        'n_estimators': [40, 60, 80, 100, 120,\n",
       "                                                         150]},\n",
       "                   pre_dispatch='2*n_jobs', random_state=42, refit=True,\n",
       "                   return_train_score=False, scoring=None, verbose=2)"
      ]
     },
     "execution_count": 115,
     "metadata": {},
     "output_type": "execute_result"
    }
   ],
   "source": [
    "ada_random = RandomizedSearchCV(estimator = ada, param_distributions = param_dist, n_iter = 100, cv = 3, verbose=2, random_state=42, n_jobs = -1)\n",
    "ada_random.fit(X_tra_smote_scaled, y_tra_smote)"
   ]
  },
  {
   "cell_type": "code",
   "execution_count": 116,
   "metadata": {},
   "outputs": [
    {
     "data": {
      "text/plain": [
       "{'n_estimators': 150, 'learning_rate': 0.4}"
      ]
     },
     "execution_count": 116,
     "metadata": {},
     "output_type": "execute_result"
    }
   ],
   "source": [
    "ada_random.best_params_"
   ]
  },
  {
   "cell_type": "code",
   "execution_count": 117,
   "metadata": {},
   "outputs": [
    {
     "name": "stdout",
     "output_type": "stream",
     "text": [
      "Accuracy:  0.8203568532035685\n",
      "Precision :  0.47759103641456585\n",
      "Recall :  0.829683698296837\n",
      "Specificity :  0.8184914841849148\n",
      "F1 score:  0.6062222222222222\n",
      "Logistic loss:  6.204775422865732\n",
      "Confusion Matrix:  \n",
      " [[1682  373]\n",
      " [  70  341]]\n"
     ]
    }
   ],
   "source": [
    "best_random = ada_random.best_estimator_\n",
    "model_metrics(best_random, X_tes_smote_scaled, y_tes)"
   ]
  },
  {
   "cell_type": "code",
   "execution_count": 119,
   "metadata": {},
   "outputs": [
    {
     "name": "stderr",
     "output_type": "stream",
     "text": [
      "/opt/anaconda3/lib/python3.7/site-packages/sklearn/model_selection/_search.py:281: UserWarning: The total space of parameters 24 is smaller than n_iter=100. Running 24 iterations. For exhaustive searches, use GridSearchCV.\n",
      "  % (grid_size, self.n_iter, grid_size), UserWarning)\n",
      "[Parallel(n_jobs=-1)]: Using backend LokyBackend with 4 concurrent workers.\n"
     ]
    },
    {
     "name": "stdout",
     "output_type": "stream",
     "text": [
      "Fitting 3 folds for each of 24 candidates, totalling 72 fits\n"
     ]
    },
    {
     "name": "stderr",
     "output_type": "stream",
     "text": [
      "[Parallel(n_jobs=-1)]: Done  33 tasks      | elapsed:   35.8s\n",
      "[Parallel(n_jobs=-1)]: Done  72 out of  72 | elapsed:  1.3min finished\n"
     ]
    },
    {
     "data": {
      "text/plain": [
       "RandomizedSearchCV(cv=3, error_score=nan,\n",
       "                   estimator=AdaBoostClassifier(algorithm='SAMME.R',\n",
       "                                                base_estimator=None,\n",
       "                                                learning_rate=1.0,\n",
       "                                                n_estimators=50,\n",
       "                                                random_state=None),\n",
       "                   iid='deprecated', n_iter=100, n_jobs=-1,\n",
       "                   param_distributions={'learning_rate': [0.2, 0.3, 0.4, 0.5],\n",
       "                                        'n_estimators': [50, 150, 200, 300, 400,\n",
       "                                                         500]},\n",
       "                   pre_dispatch='2*n_jobs', random_state=42, refit=True,\n",
       "                   return_train_score=False, scoring=None, verbose=2)"
      ]
     },
     "execution_count": 119,
     "metadata": {},
     "output_type": "execute_result"
    }
   ],
   "source": [
    "ada_random = RandomizedSearchCV(estimator = ada, param_distributions = param_dist, n_iter = 100, cv = 3, verbose=2, random_state=42, n_jobs = -1)\n",
    "ada_random.fit(X_tra_smote_scaled, y_tra_smote)"
   ]
  },
  {
   "cell_type": "code",
   "execution_count": 120,
   "metadata": {},
   "outputs": [
    {
     "data": {
      "text/plain": [
       "{'n_estimators': 500, 'learning_rate': 0.5}"
      ]
     },
     "execution_count": 120,
     "metadata": {},
     "output_type": "execute_result"
    }
   ],
   "source": [
    "ada_random.best_params_"
   ]
  },
  {
   "cell_type": "code",
   "execution_count": 121,
   "metadata": {},
   "outputs": [
    {
     "name": "stdout",
     "output_type": "stream",
     "text": [
      "Accuracy:  0.8256285482562855\n",
      "Precision :  0.48633093525179855\n",
      "Recall :  0.8223844282238443\n",
      "Specificity :  0.8262773722627738\n",
      "F1 score:  0.6112115732368897\n",
      "Logistic loss:  6.022692338237703\n",
      "Confusion Matrix:  \n",
      " [[1698  357]\n",
      " [  73  338]]\n"
     ]
    }
   ],
   "source": [
    "best_random = ada_random.best_estimator_\n",
    "model_metrics(best_random, X_tes_smote_scaled, y_tes)"
   ]
  },
  {
   "cell_type": "markdown",
   "metadata": {},
   "source": [
    "## GridSearchCV\n",
    "\n",
    "ET: n_estimators around 17 <br>\n",
    "AdaBoost: n_estimators around 150"
   ]
  },
  {
   "cell_type": "markdown",
   "metadata": {},
   "source": [
    "# ET"
   ]
  },
  {
   "cell_type": "code",
   "execution_count": 13,
   "metadata": {},
   "outputs": [],
   "source": [
    "from sklearn.model_selection import GridSearchCV\n",
    "# Create the parameter grid based on the results of random search \n",
    "param_grid = {\n",
    "    'bootstrap': [True],\n",
    "    'max_features': [2, 3],\n",
    "    'min_samples_leaf': [3, 4, 5],\n",
    "    'min_samples_split': [8, 10, 12],\n",
    "    'n_estimators': [16, 17, 18, 19, 20]\n",
    "}\n",
    "\n",
    "# Instantiate the grid search model\n",
    "grid_search = GridSearchCV(estimator = et, param_grid = param_grid, \n",
    "                          cv = 3, n_jobs = -1, verbose = 2)"
   ]
  },
  {
   "cell_type": "code",
   "execution_count": 126,
   "metadata": {},
   "outputs": [
    {
     "name": "stdout",
     "output_type": "stream",
     "text": [
      "Fitting 3 folds for each of 90 candidates, totalling 270 fits\n"
     ]
    },
    {
     "name": "stderr",
     "output_type": "stream",
     "text": [
      "[Parallel(n_jobs=-1)]: Using backend LokyBackend with 4 concurrent workers.\n",
      "[Parallel(n_jobs=-1)]: Done  33 tasks      | elapsed:    4.3s\n",
      "[Parallel(n_jobs=-1)]: Done 154 tasks      | elapsed:    9.3s\n",
      "[Parallel(n_jobs=-1)]: Done 270 out of 270 | elapsed:   14.6s finished\n"
     ]
    },
    {
     "data": {
      "text/plain": [
       "{'bootstrap': True,\n",
       " 'max_features': 3,\n",
       " 'min_samples_leaf': 3,\n",
       " 'min_samples_split': 12,\n",
       " 'n_estimators': 18}"
      ]
     },
     "execution_count": 126,
     "metadata": {},
     "output_type": "execute_result"
    }
   ],
   "source": [
    "grid_search.fit(X_tra_smote_scaled, y_tra_smote)\n",
    "grid_search.best_params_"
   ]
  },
  {
   "cell_type": "code",
   "execution_count": 127,
   "metadata": {},
   "outputs": [
    {
     "name": "stdout",
     "output_type": "stream",
     "text": [
      "Accuracy:  0.8467153284671532\n",
      "Precision :  0.5254237288135594\n",
      "Recall :  0.829683698296837\n",
      "Specificity :  0.8501216545012166\n",
      "F1 score:  0.6433962264150944\n",
      "Logistic loss:  5.29436486345691\n",
      "Confusion Matrix:  \n",
      " [[1747  308]\n",
      " [  70  341]]\n"
     ]
    }
   ],
   "source": [
    "best_grid = grid_search.best_estimator_\n",
    "model_metrics(best_grid, X_tes_smote_scaled, y_tes)"
   ]
  },
  {
   "cell_type": "markdown",
   "metadata": {},
   "source": [
    "# AdaBoost"
   ]
  },
  {
   "cell_type": "code",
   "execution_count": 35,
   "metadata": {},
   "outputs": [],
   "source": [
    "# Create the parameter grid based on the results of random search \n",
    "param_dist = {\n",
    " 'n_estimators': [144,145,146,147,148],\n",
    " 'learning_rate' : [0.2,0.3,0.4,0.5]\n",
    " }\n",
    "\n",
    "# Instantiate the grid search model\n",
    "grid_search = GridSearchCV(estimator = ada, param_grid = param_dist, \n",
    "                          cv = 3, n_jobs = -1, verbose = 2)"
   ]
  },
  {
   "cell_type": "code",
   "execution_count": 36,
   "metadata": {},
   "outputs": [
    {
     "name": "stdout",
     "output_type": "stream",
     "text": [
      "Fitting 3 folds for each of 20 candidates, totalling 60 fits\n"
     ]
    },
    {
     "name": "stderr",
     "output_type": "stream",
     "text": [
      "[Parallel(n_jobs=-1)]: Using backend LokyBackend with 4 concurrent workers.\n",
      "[Parallel(n_jobs=-1)]: Done  33 tasks      | elapsed:   18.6s\n",
      "[Parallel(n_jobs=-1)]: Done  60 out of  60 | elapsed:   33.3s finished\n"
     ]
    },
    {
     "data": {
      "text/plain": [
       "{'learning_rate': 0.5, 'n_estimators': 145}"
      ]
     },
     "execution_count": 36,
     "metadata": {},
     "output_type": "execute_result"
    }
   ],
   "source": [
    "grid_search.fit(X_tra_smote_scaled, y_tra_smote)\n",
    "grid_search.best_params_"
   ]
  },
  {
   "cell_type": "code",
   "execution_count": 37,
   "metadata": {},
   "outputs": [
    {
     "name": "stdout",
     "output_type": "stream",
     "text": [
      "Accuracy:  0.8227899432278994\n",
      "Precision :  0.48169014084507045\n",
      "Recall :  0.8321167883211679\n",
      "Specificity :  0.8209245742092457\n",
      "F1 score:  0.6101694915254238\n",
      "Logistic loss:  6.120737849322904\n",
      "Confusion Matrix:  \n",
      " [[1687  368]\n",
      " [  69  342]]\n"
     ]
    }
   ],
   "source": [
    "best_grid = grid_search.best_estimator_\n",
    "model_metrics(best_grid, X_tes_smote_scaled, y_tes)"
   ]
  },
  {
   "cell_type": "code",
   "execution_count": null,
   "metadata": {},
   "outputs": [],
   "source": []
  }
 ],
 "metadata": {
  "kernelspec": {
   "display_name": "Python 3",
   "language": "python",
   "name": "python3"
  },
  "language_info": {
   "codemirror_mode": {
    "name": "ipython",
    "version": 3
   },
   "file_extension": ".py",
   "mimetype": "text/x-python",
   "name": "python",
   "nbconvert_exporter": "python",
   "pygments_lexer": "ipython3",
   "version": "3.7.6"
  }
 },
 "nbformat": 4,
 "nbformat_minor": 4
}
